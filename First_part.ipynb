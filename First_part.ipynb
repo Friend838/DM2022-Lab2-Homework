{
 "cells": [
  {
   "cell_type": "markdown",
   "id": "3ddd3db3",
   "metadata": {},
   "source": [
    "# Data preparation"
   ]
  },
  {
   "cell_type": "code",
   "execution_count": 1,
   "id": "153fa9f8",
   "metadata": {},
   "outputs": [],
   "source": [
    "import pandas as pd\n",
    "\n",
    "### training data\n",
    "anger_train = pd.read_csv(\"data/semeval/train/anger-ratings-0to1.train.txt\",\n",
    "                         sep=\"\\t\", header=None,names=[\"id\", \"text\", \"emotion\", \"intensity\"])\n",
    "sadness_train = pd.read_csv(\"data/semeval/train/sadness-ratings-0to1.train.txt\",\n",
    "                         sep=\"\\t\", header=None, names=[\"id\", \"text\", \"emotion\", \"intensity\"])\n",
    "fear_train = pd.read_csv(\"data/semeval/train/fear-ratings-0to1.train.txt\",\n",
    "                         sep=\"\\t\", header=None, names=[\"id\", \"text\", \"emotion\", \"intensity\"])\n",
    "joy_train = pd.read_csv(\"data/semeval/train/joy-ratings-0to1.train.txt\",\n",
    "                         sep=\"\\t\", header=None, names=[\"id\", \"text\", \"emotion\", \"intensity\"])"
   ]
  },
  {
   "cell_type": "code",
   "execution_count": 2,
   "id": "afd50ea9",
   "metadata": {},
   "outputs": [],
   "source": [
    "train_df = pd.concat([anger_train, fear_train, joy_train, sadness_train], ignore_index=True)"
   ]
  },
  {
   "cell_type": "code",
   "execution_count": 3,
   "id": "1d99025b",
   "metadata": {},
   "outputs": [
    {
     "data": {
      "text/html": [
       "<div>\n",
       "<style scoped>\n",
       "    .dataframe tbody tr th:only-of-type {\n",
       "        vertical-align: middle;\n",
       "    }\n",
       "\n",
       "    .dataframe tbody tr th {\n",
       "        vertical-align: top;\n",
       "    }\n",
       "\n",
       "    .dataframe thead th {\n",
       "        text-align: right;\n",
       "    }\n",
       "</style>\n",
       "<table border=\"1\" class=\"dataframe\">\n",
       "  <thead>\n",
       "    <tr style=\"text-align: right;\">\n",
       "      <th></th>\n",
       "      <th>id</th>\n",
       "      <th>text</th>\n",
       "      <th>emotion</th>\n",
       "      <th>intensity</th>\n",
       "    </tr>\n",
       "  </thead>\n",
       "  <tbody>\n",
       "    <tr>\n",
       "      <th>0</th>\n",
       "      <td>10000</td>\n",
       "      <td>How the fu*k! Who the heck! moved my fridge!.....</td>\n",
       "      <td>anger</td>\n",
       "      <td>0.938</td>\n",
       "    </tr>\n",
       "    <tr>\n",
       "      <th>1</th>\n",
       "      <td>10001</td>\n",
       "      <td>So my Indian Uber driver just called someone t...</td>\n",
       "      <td>anger</td>\n",
       "      <td>0.896</td>\n",
       "    </tr>\n",
       "    <tr>\n",
       "      <th>2</th>\n",
       "      <td>10002</td>\n",
       "      <td>@DPD_UK I asked for my parcel to be delivered ...</td>\n",
       "      <td>anger</td>\n",
       "      <td>0.896</td>\n",
       "    </tr>\n",
       "    <tr>\n",
       "      <th>3</th>\n",
       "      <td>10003</td>\n",
       "      <td>so ef whichever butt wipe pulled the fire alar...</td>\n",
       "      <td>anger</td>\n",
       "      <td>0.896</td>\n",
       "    </tr>\n",
       "    <tr>\n",
       "      <th>4</th>\n",
       "      <td>10004</td>\n",
       "      <td>Don't join @BTCare they put the phone down on ...</td>\n",
       "      <td>anger</td>\n",
       "      <td>0.896</td>\n",
       "    </tr>\n",
       "  </tbody>\n",
       "</table>\n",
       "</div>"
      ],
      "text/plain": [
       "      id                                               text emotion  intensity\n",
       "0  10000  How the fu*k! Who the heck! moved my fridge!.....   anger      0.938\n",
       "1  10001  So my Indian Uber driver just called someone t...   anger      0.896\n",
       "2  10002  @DPD_UK I asked for my parcel to be delivered ...   anger      0.896\n",
       "3  10003  so ef whichever butt wipe pulled the fire alar...   anger      0.896\n",
       "4  10004  Don't join @BTCare they put the phone down on ...   anger      0.896"
      ]
     },
     "execution_count": 3,
     "metadata": {},
     "output_type": "execute_result"
    }
   ],
   "source": [
    "### testing data\n",
    "anger_test = pd.read_csv(\"data/semeval/dev/anger-ratings-0to1.dev.gold.txt\",\n",
    "                         sep=\"\\t\", header=None, names=[\"id\", \"text\", \"emotion\", \"intensity\"])\n",
    "sadness_test = pd.read_csv(\"data/semeval/dev/sadness-ratings-0to1.dev.gold.txt\",\n",
    "                         sep=\"\\t\", header=None, names=[\"id\", \"text\", \"emotion\", \"intensity\"])\n",
    "fear_test = pd.read_csv(\"data/semeval/dev/fear-ratings-0to1.dev.gold.txt\",\n",
    "                         sep=\"\\t\", header=None, names=[\"id\", \"text\", \"emotion\", \"intensity\"])\n",
    "joy_test = pd.read_csv(\"data/semeval/dev/joy-ratings-0to1.dev.gold.txt\",\n",
    "                         sep=\"\\t\", header=None, names=[\"id\", \"text\", \"emotion\", \"intensity\"])\n",
    "\n",
    "# combine 4 sub-dataset\n",
    "test_df = pd.concat([anger_test, fear_test, joy_test, sadness_test], ignore_index=True)\n",
    "train_df.head()"
   ]
  },
  {
   "cell_type": "code",
   "execution_count": 4,
   "id": "16f00a2b",
   "metadata": {},
   "outputs": [
    {
     "name": "stdout",
     "output_type": "stream",
     "text": [
      "Shape of Training df:  (3613, 4)\n",
      "Shape of Testing df:  (347, 4)\n"
     ]
    }
   ],
   "source": [
    "# shuffle dataset\n",
    "train_df = train_df.sample(frac=1)\n",
    "test_df = test_df.sample(frac=1)\n",
    "\n",
    "print(\"Shape of Training df: \", train_df.shape)\n",
    "print(\"Shape of Testing df: \", test_df.shape)"
   ]
  },
  {
   "cell_type": "markdown",
   "id": "45de73e4",
   "metadata": {},
   "source": [
    "---\n",
    "### ** >>> Exercise 1 (Take home): **  \n",
    "Plot word frequency for Top 30 words in both train and test dataset. (Hint: refer to DM lab 1)"
   ]
  },
  {
   "cell_type": "code",
   "execution_count": 5,
   "id": "593120c0",
   "metadata": {},
   "outputs": [],
   "source": [
    "import matplotlib.pyplot as plt\n",
    "import seaborn as sns\n",
    "import numpy as np\n",
    "from sklearn.feature_extraction.text import CountVectorizer\n",
    "count_vect = CountVectorizer()"
   ]
  },
  {
   "cell_type": "code",
   "execution_count": 6,
   "id": "ddc8c6e5",
   "metadata": {},
   "outputs": [
    {
     "data": {
      "text/plain": [
       "(3613, 10115)"
      ]
     },
     "execution_count": 6,
     "metadata": {},
     "output_type": "execute_result"
    }
   ],
   "source": [
    "train_counts = count_vect.fit_transform(train_df.text) #learn the vocabulary and return document-term matrix\n",
    "train_counts.shape"
   ]
  },
  {
   "cell_type": "code",
   "execution_count": 7,
   "id": "62b464bf",
   "metadata": {},
   "outputs": [],
   "source": [
    "term_frequencies_in_trains = np.asarray(train_counts.sum(axis=0))[0]\n",
    "# when we are sorting frequencies, indexs need to be swapped too\n",
    "index_trains = np.argsort(term_frequencies_in_trains)[::-1]  # [::-1]: reverse\n",
    "term_frequencies_in_trains = np.sort(term_frequencies_in_trains)[::-1]"
   ]
  },
  {
   "cell_type": "code",
   "execution_count": 8,
   "id": "451aa14a",
   "metadata": {
    "scrolled": true
   },
   "outputs": [
    {
     "name": "stderr",
     "output_type": "stream",
     "text": [
      "C:\\Users\\user\\anaconda3\\lib\\site-packages\\sklearn\\utils\\deprecation.py:87: FutureWarning: Function get_feature_names is deprecated; get_feature_names is deprecated in 1.0 and will be removed in 1.2. Please use get_feature_names_out instead.\n",
      "  warnings.warn(msg, category=FutureWarning)\n",
      "C:\\Users\\user\\anaconda3\\lib\\site-packages\\sklearn\\utils\\deprecation.py:87: FutureWarning: Function get_feature_names is deprecated; get_feature_names is deprecated in 1.0 and will be removed in 1.2. Please use get_feature_names_out instead.\n",
      "  warnings.warn(msg, category=FutureWarning)\n"
     ]
    },
    {
     "data": {
      "text/plain": [
       "<module 'matplotlib.pyplot' from 'C:\\\\Users\\\\user\\\\anaconda3\\\\lib\\\\site-packages\\\\matplotlib\\\\pyplot.py'>"
      ]
     },
     "execution_count": 8,
     "metadata": {},
     "output_type": "execute_result"
    },
    {
     "data": {
      "image/png": "[encoded data removed]",
      "text/plain": [
       "<Figure size 1800x360 with 1 Axes>"
      ]
     },
     "metadata": {
      "needs_background": "light"
     },
     "output_type": "display_data"
    }
   ],
   "source": [
    "# we already get the indexes of sorted counts, and now we need to print it out\n",
    "# use \"temp\" to store words\n",
    "temp = []\n",
    "for i in index_trains[:30]:\n",
    "    temp.append(count_vect.get_feature_names()[i])\n",
    "\n",
    "plt.subplots(figsize=(25, 5))\n",
    "g = sns.barplot(x=temp, \n",
    "            y=term_frequencies_in_trains[:30])\n",
    "g.set_xticklabels(count_vect.get_feature_names()[:30], rotation = 90)\n",
    "plt"
   ]
  },
  {
   "cell_type": "code",
   "execution_count": 9,
   "id": "f17946b4",
   "metadata": {},
   "outputs": [
    {
     "data": {
      "text/plain": [
       "(347, 1949)"
      ]
     },
     "execution_count": 9,
     "metadata": {},
     "output_type": "execute_result"
    }
   ],
   "source": [
    "test_counts = count_vect.fit_transform(test_df.text)\n",
    "test_counts.shape"
   ]
  },
  {
   "cell_type": "code",
   "execution_count": 10,
   "id": "8812086b",
   "metadata": {},
   "outputs": [],
   "source": [
    "term_frequencies_in_tests = np.asarray(test_counts.sum(axis=0))[0]\n",
    "index_tests = np.argsort(term_frequencies_in_tests)[::-1]\n",
    "term_frequencies_in_tests = np.sort(term_frequencies_in_tests)[::-1]"
   ]
  },
  {
   "cell_type": "code",
   "execution_count": 11,
   "id": "60b67d1f",
   "metadata": {
    "scrolled": true
   },
   "outputs": [
    {
     "name": "stderr",
     "output_type": "stream",
     "text": [
      "C:\\Users\\user\\anaconda3\\lib\\site-packages\\sklearn\\utils\\deprecation.py:87: FutureWarning: Function get_feature_names is deprecated; get_feature_names is deprecated in 1.0 and will be removed in 1.2. Please use get_feature_names_out instead.\n",
      "  warnings.warn(msg, category=FutureWarning)\n"
     ]
    },
    {
     "data": {
      "text/plain": [
       "<module 'matplotlib.pyplot' from 'C:\\\\Users\\\\user\\\\anaconda3\\\\lib\\\\site-packages\\\\matplotlib\\\\pyplot.py'>"
      ]
     },
     "execution_count": 11,
     "metadata": {},
     "output_type": "execute_result"
    },
    {
     "data": {
      "image/png": "[encoded data removed]",
      "text/plain": [
       "<Figure size 1800x360 with 1 Axes>"
      ]
     },
     "metadata": {
      "needs_background": "light"
     },
     "output_type": "display_data"
    }
   ],
   "source": [
    "temp = []\n",
    "for i in index_tests[:30]:\n",
    "    temp.append(count_vect.get_feature_names()[i])\n",
    "\n",
    "plt.subplots(figsize=(25, 5))\n",
    "g = sns.barplot(x=temp, \n",
    "            y=term_frequencies_in_tests[:30])\n",
    "g.set_xticklabels(count_vect.get_feature_names()[:30], rotation = 90)\n",
    "plt"
   ]
  },
  {
   "cell_type": "markdown",
   "id": "5b3654f0",
   "metadata": {},
   "source": [
    "---\n",
    "### ** >>> Exercise 2 (Take home): **  \n",
    "Generate an embedding using the TF-IDF vectorizer instead of th BOW one with 1000 features and show the feature names for features [100:110]."
   ]
  },
  {
   "cell_type": "code",
   "execution_count": 12,
   "id": "c275c18e",
   "metadata": {},
   "outputs": [],
   "source": [
    "import nltk\n",
    "from sklearn.feature_extraction.text import TfidfVectorizer\n",
    "TFIDF_vectorizer = TfidfVectorizer(max_features=1000, tokenizer=nltk.word_tokenize)"
   ]
  },
  {
   "cell_type": "code",
   "execution_count": 13,
   "id": "ac2e5c71",
   "metadata": {},
   "outputs": [
    {
     "name": "stderr",
     "output_type": "stream",
     "text": [
      "C:\\Users\\user\\anaconda3\\lib\\site-packages\\sklearn\\feature_extraction\\text.py:516: UserWarning: The parameter 'token_pattern' will not be used since 'tokenizer' is not None'\n",
      "  warnings.warn(\n"
     ]
    }
   ],
   "source": [
    "# 1. Learn a vocabulary dictionary of all tokens in the raw documents.\n",
    "TFIDF_vectorizer.fit(train_df['text'])\n",
    "\n",
    "# 2. Transform documents to document-term matrix.\n",
    "train_data_TFIDF_features = TFIDF_vectorizer.transform(train_df['text'])"
   ]
  },
  {
   "cell_type": "code",
   "execution_count": 14,
   "id": "e59c5b05",
   "metadata": {},
   "outputs": [
    {
     "data": {
      "text/plain": [
       "['awful', 'b', 'baby', 'back', 'bad', 'ball', 'balls', 'bb18', 'bc', 'bday']"
      ]
     },
     "execution_count": 14,
     "metadata": {},
     "output_type": "execute_result"
    }
   ],
   "source": [
    "feature_names = TFIDF_vectorizer.get_feature_names()\n",
    "feature_names[100:110]"
   ]
  },
  {
   "attachments": {
    "image.png": {
     "image/png": "[encoded data removed]"
    }
   },
   "cell_type": "markdown",
   "id": "15be7341",
   "metadata": {},
   "source": [
    "---\n",
    "### ** >>> Exercise 3 (Take home): **  \n",
    "Can you interpret the results ? What do they mean?\n",
    "\n",
    "![image.png](attachment:image.png)"
   ]
  },
  {
   "cell_type": "markdown",
   "id": "83ca21c5",
   "metadata": {},
   "source": [
    "Answer:\n",
    "\n",
    "After decision tree classified, we can see the majority of datas are well predicted, but there are still some minor datas mispredict. \n",
    "\n",
    "Another problem is the total number of datas in each category, apparently, \"fear\" has more datas then others', so creating more test datas can show more information about the model on different category."
   ]
  },
  {
   "cell_type": "markdown",
   "id": "25032e56",
   "metadata": {},
   "source": [
    "---\n",
    "### ** >>> Exercise 4 (Take home): **  \n",
    "Build a model using a ```Naive Bayes``` model and train it. What are the testing results? "
   ]
  },
  {
   "cell_type": "code",
   "execution_count": 15,
   "id": "0a5ddd0b",
   "metadata": {},
   "outputs": [],
   "source": [
    "from sklearn.metrics import accuracy_score\n",
    "from sklearn.naive_bayes import MultinomialNB"
   ]
  },
  {
   "cell_type": "code",
   "execution_count": 16,
   "id": "3354731b",
   "metadata": {},
   "outputs": [
    {
     "data": {
      "text/plain": [
       "CountVectorizer(max_features=1000,\n",
       "                tokenizer=<function word_tokenize at 0x000001E54F1C35E0>)"
      ]
     },
     "execution_count": 16,
     "metadata": {},
     "output_type": "execute_result"
    }
   ],
   "source": [
    "from sklearn.feature_extraction.text import CountVectorizer\n",
    "BOW_vectorizer = CountVectorizer(max_features=1000, tokenizer=nltk.word_tokenize) \n",
    "BOW_vectorizer.fit(train_df['text'])"
   ]
  },
  {
   "cell_type": "code",
   "execution_count": 17,
   "id": "fd4fed73",
   "metadata": {},
   "outputs": [
    {
     "name": "stdout",
     "output_type": "stream",
     "text": [
      "X_train.shape:  (3613, 1000)\n",
      "y_train.shape:  (3613,)\n",
      "X_test.shape:  (347, 1000)\n",
      "y_test.shape:  (347,)\n"
     ]
    }
   ],
   "source": [
    "X_train = BOW_vectorizer.transform(train_df['text'])\n",
    "Y_train = train_df.emotion\n",
    "\n",
    "X_test = BOW_vectorizer.transform(test_df['text'])\n",
    "Y_test = test_df.emotion\n",
    "\n",
    "print('X_train.shape: ', X_train.shape)\n",
    "print('y_train.shape: ', Y_train.shape)\n",
    "print('X_test.shape: ', X_test.shape)\n",
    "print('y_test.shape: ', Y_test.shape)"
   ]
  },
  {
   "cell_type": "code",
   "execution_count": 18,
   "id": "a399f955",
   "metadata": {},
   "outputs": [],
   "source": [
    "clf1 = MultinomialNB()\n",
    "clf1.fit(X_train, Y_train)\n",
    "\n",
    "Y_train_pred = clf1.predict(X_train)\n",
    "Y_test_pred = clf1.predict(X_test)"
   ]
  },
  {
   "cell_type": "code",
   "execution_count": 19,
   "id": "39324548",
   "metadata": {},
   "outputs": [
    {
     "name": "stdout",
     "output_type": "stream",
     "text": [
      "training accuracy: 0.88\n",
      "testing accuracy: 0.77\n"
     ]
    }
   ],
   "source": [
    "acc_train = accuracy_score(y_true=Y_train, y_pred=Y_train_pred)\n",
    "acc_test = accuracy_score(y_true=Y_test, y_pred=Y_test_pred)\n",
    "\n",
    "print('training accuracy: {}'.format(round(acc_train, 2)))\n",
    "print('testing accuracy: {}'.format(round(acc_test, 2)))"
   ]
  },
  {
   "cell_type": "code",
   "execution_count": 20,
   "id": "0214adba",
   "metadata": {},
   "outputs": [
    {
     "name": "stdout",
     "output_type": "stream",
     "text": [
      "              precision    recall  f1-score   support\n",
      "\n",
      "       anger       0.74      0.76      0.75        84\n",
      "        fear       0.78      0.79      0.78       110\n",
      "         joy       0.85      0.78      0.82        79\n",
      "     sadness       0.72      0.74      0.73        74\n",
      "\n",
      "    accuracy                           0.77       347\n",
      "   macro avg       0.77      0.77      0.77       347\n",
      "weighted avg       0.77      0.77      0.77       347\n",
      "\n"
     ]
    }
   ],
   "source": [
    "## precision, recall, f1-score,\n",
    "from sklearn.metrics import classification_report\n",
    "\n",
    "print(classification_report(y_true=Y_test, y_pred=Y_test_pred))"
   ]
  },
  {
   "cell_type": "code",
   "execution_count": 21,
   "id": "ddc588d5",
   "metadata": {},
   "outputs": [
    {
     "name": "stdout",
     "output_type": "stream",
     "text": [
      "[[64 11  4  5]\n",
      " [10 87  2 11]\n",
      " [ 7  5 62  5]\n",
      " [ 5  9  5 55]]\n"
     ]
    }
   ],
   "source": [
    "## check by confusion matrix\n",
    "from sklearn.metrics import confusion_matrix\n",
    "\n",
    "cm = confusion_matrix(y_true=Y_test, y_pred=Y_test_pred) \n",
    "print(cm)"
   ]
  },
  {
   "cell_type": "code",
   "execution_count": 22,
   "id": "edbe31f5",
   "metadata": {},
   "outputs": [],
   "source": [
    "# Funciton for visualizing confusion_matrix\n",
    "import matplotlib.pyplot as plt\n",
    "import seaborn as sns\n",
    "import numpy as np\n",
    "import itertools\n",
    "\n",
    "def plot_confusion_matrix(cm, classes, title='Confusion matrix',\n",
    "                          cmap=sns.cubehelix_palette(as_cmap=True)):\n",
    "    \"\"\"\n",
    "    This function is modified from: \n",
    "    http://scikit-learn.org/stable/auto_examples/model_selection/plot_confusion_matrix.html\n",
    "    \"\"\"\n",
    "    classes.sort()\n",
    "    tick_marks = np.arange(len(classes))    \n",
    "    \n",
    "    fig, ax = plt.subplots(figsize=(5,5))\n",
    "    im = ax.imshow(cm, interpolation='nearest', cmap=cmap)\n",
    "    ax.figure.colorbar(im, ax=ax)\n",
    "    ax.set(xticks=np.arange(cm.shape[1]),\n",
    "           yticks=np.arange(cm.shape[0]),\n",
    "           xticklabels = classes,\n",
    "           yticklabels = classes,\n",
    "           title = title,\n",
    "           xlabel = 'True label',\n",
    "           ylabel = 'Predicted label')\n",
    "\n",
    "    fmt = 'd'\n",
    "    thresh = cm.max() / 2.\n",
    "    for i, j in itertools.product(range(cm.shape[0]), range(cm.shape[1])):\n",
    "        plt.text(j, i, format(cm[i, j], fmt), horizontalalignment=\"center\", color=\"white\" if cm[i, j] > thresh else \"black\")\n",
    "    ylim_top = len(classes) - 0.5\n",
    "    plt.ylim([ylim_top, -.5])\n",
    "    plt.tight_layout()\n",
    "    plt.show()"
   ]
  },
  {
   "cell_type": "code",
   "execution_count": 23,
   "id": "856b0166",
   "metadata": {},
   "outputs": [
    {
     "data": {
      "image/png": "[encoded data removed]",
      "text/plain": [
       "<Figure size 360x360 with 2 Axes>"
      ]
     },
     "metadata": {
      "needs_background": "light"
     },
     "output_type": "display_data"
    }
   ],
   "source": [
    "# plot your confusion matrix\n",
    "my_tags = ['anger', 'fear', 'joy', 'sadness']\n",
    "plot_confusion_matrix(cm, classes=my_tags, title='Confusion matrix')"
   ]
  },
  {
   "cell_type": "markdown",
   "id": "b4d23923",
   "metadata": {},
   "source": [
    "---\n",
    "### ** >>> Exercise 5 (Take home): **  \n",
    "\n",
    "How do the results from the Naive Bayes model and the Decision Tree model compare? How do you interpret these differences? Use the theoretical background covered in class to try and explain these differences."
   ]
  },
  {
   "cell_type": "markdown",
   "id": "9fe46190",
   "metadata": {},
   "source": [
    "Answer:\n",
    "\n",
    "根據上面各種評分結果，使用naive bayes會有比較好的表現。\n",
    "\n",
    "如果訓練資料的某個feature非常重要，使用decision tree會有比較好的表現。相反如果每個feature都是相對重要，那麼用naive bayes會比較好。而且如果用decision tree，某些稀少的label很有可能會被過濾掉。\n",
    "\n",
    "在這次的訓練中是使用BoW，我認為每個BoW都是相對重要的，因此naive bayes才會有比較好的結果。\n",
    "\n",
    "另外如果改用TFIDF來進行訓練，也會有更好的結果。"
   ]
  },
  {
   "cell_type": "markdown",
   "id": "9a0273f9",
   "metadata": {},
   "source": [
    "# Deep learning model build"
   ]
  },
  {
   "cell_type": "markdown",
   "id": "9b88e563",
   "metadata": {},
   "source": [
    "## prepare data\n",
    "I use TFIDF feature"
   ]
  },
  {
   "cell_type": "code",
   "execution_count": 24,
   "id": "c4e5f37f",
   "metadata": {},
   "outputs": [
    {
     "name": "stdout",
     "output_type": "stream",
     "text": [
      "X_train.shape:  (3613, 1000)\n",
      "y_train.shape:  (3613,)\n",
      "X_test.shape:  (347, 1000)\n",
      "y_test.shape:  (347,)\n"
     ]
    }
   ],
   "source": [
    "import keras\n",
    "\n",
    "X_train = TFIDF_vectorizer.transform(train_df.text)\n",
    "Y_train = train_df.emotion\n",
    "\n",
    "X_test = TFIDF_vectorizer.transform(test_df.text)\n",
    "Y_test = test_df.emotion\n",
    "\n",
    "print('X_train.shape: ', X_train.shape)\n",
    "print('y_train.shape: ', Y_train.shape)\n",
    "print('X_test.shape: ', X_test.shape)\n",
    "print('y_test.shape: ', Y_test.shape)"
   ]
  },
  {
   "cell_type": "markdown",
   "id": "78e24866",
   "metadata": {},
   "source": [
    "## one hot encoding"
   ]
  },
  {
   "cell_type": "code",
   "execution_count": 25,
   "id": "4c19a76d",
   "metadata": {},
   "outputs": [
    {
     "name": "stdout",
     "output_type": "stream",
     "text": [
      "check label:  ['anger' 'fear' 'joy' 'sadness']\n",
      "\n",
      "## Before convert\n",
      "Y_train[0:4]:\n",
      " 479     anger\n",
      "2617      joy\n",
      "422     anger\n",
      "753     anger\n",
      "Name: emotion, dtype: object\n",
      "\n",
      "Y_train.shape:  (3613,)\n",
      "Y_test.shape:  (347,)\n",
      "\n",
      "\n",
      "## After convert\n",
      "Y_train[0:4]:\n",
      " [[1. 0. 0. 0.]\n",
      " [0. 0. 1. 0.]\n",
      " [1. 0. 0. 0.]\n",
      " [1. 0. 0. 0.]]\n",
      "\n",
      "Y_train.shape:  (3613, 4)\n",
      "Y_test.shape:  (347, 4)\n"
     ]
    }
   ],
   "source": [
    "## deal with label (string -> one-hot)\n",
    "\n",
    "from sklearn.preprocessing import LabelEncoder\n",
    "\n",
    "label_encoder = LabelEncoder()\n",
    "label_encoder.fit(Y_train)\n",
    "print('check label: ', label_encoder.classes_)\n",
    "print('\\n## Before convert')\n",
    "print('Y_train[0:4]:\\n', Y_train[0:4])\n",
    "print('\\nY_train.shape: ', Y_train.shape)\n",
    "print('Y_test.shape: ', Y_test.shape)\n",
    "\n",
    "def label_encode(le, labels):\n",
    "    enc = le.transform(labels)\n",
    "    return keras.utils.to_categorical(enc)\n",
    "\n",
    "def label_decode(le, one_hot_label):\n",
    "    dec = np.argmax(one_hot_label, axis=1)\n",
    "    return le.inverse_transform(dec)\n",
    "\n",
    "Y_train = label_encode(label_encoder, Y_train)\n",
    "Y_test = label_encode(label_encoder, Y_test)\n",
    "\n",
    "print('\\n\\n## After convert')\n",
    "print('Y_train[0:4]:\\n', Y_train[0:4])\n",
    "print('\\nY_train.shape: ', Y_train.shape)\n",
    "print('Y_test.shape: ', Y_test.shape)"
   ]
  },
  {
   "cell_type": "markdown",
   "id": "03b5a380",
   "metadata": {},
   "source": [
    "## build model"
   ]
  },
  {
   "cell_type": "code",
   "execution_count": 26,
   "id": "ddf971d8",
   "metadata": {},
   "outputs": [
    {
     "name": "stdout",
     "output_type": "stream",
     "text": [
      "(3613, 1000)\n",
      "(3613, 4)\n",
      "(347, 1000)\n",
      "(347, 4)\n"
     ]
    }
   ],
   "source": [
    "# I/O check\n",
    "print(X_train.shape)\n",
    "print(Y_train.shape)\n",
    "print(X_test.shape)\n",
    "print(Y_test.shape)"
   ]
  },
  {
   "cell_type": "code",
   "execution_count": 27,
   "id": "27fd6c63",
   "metadata": {},
   "outputs": [
    {
     "name": "stdout",
     "output_type": "stream",
     "text": [
      "Model: \"model\"\n",
      "_________________________________________________________________\n",
      " Layer (type)                Output Shape              Param #   \n",
      "=================================================================\n",
      " input_1 (InputLayer)        [(None, 1000)]            0         \n",
      "                                                                 \n",
      " dense (Dense)               (None, 64)                64064     \n",
      "                                                                 \n",
      " re_lu (ReLU)                (None, 64)                0         \n",
      "                                                                 \n",
      " dense_1 (Dense)             (None, 64)                4160      \n",
      "                                                                 \n",
      " re_lu_1 (ReLU)              (None, 64)                0         \n",
      "                                                                 \n",
      " dense_2 (Dense)             (None, 4)                 260       \n",
      "                                                                 \n",
      " softmax (Softmax)           (None, 4)                 0         \n",
      "                                                                 \n",
      "=================================================================\n",
      "Total params: 68,484\n",
      "Trainable params: 68,484\n",
      "Non-trainable params: 0\n",
      "_________________________________________________________________\n"
     ]
    }
   ],
   "source": [
    "from keras.models import Model\n",
    "from keras.layers import Input, Dense\n",
    "from keras.layers import ReLU, Softmax\n",
    "\n",
    "# input layer\n",
    "model_input = Input(shape=(1000, ))\n",
    "X = model_input\n",
    "\n",
    "# 1st hidden layer\n",
    "X_W1 = Dense(units=64)(X)  # 64\n",
    "H1 = ReLU()(X_W1)\n",
    "\n",
    "# 2nd hidden layer\n",
    "H1_W2 = Dense(units=64)(H1)  # 64\n",
    "H2 = ReLU()(H1_W2)\n",
    "\n",
    "# output layer\n",
    "H2_W3 = Dense(units=4)(H2)\n",
    "H3 = Softmax()(H2_W3)\n",
    "\n",
    "model_output = H3\n",
    "\n",
    "# create model\n",
    "model = Model(inputs=[model_input], outputs=[model_output])\n",
    "\n",
    "# loss function & optimizer\n",
    "model.compile(optimizer='adam',\n",
    "              loss='categorical_crossentropy',\n",
    "              metrics=['accuracy'])\n",
    "\n",
    "# show model construction\n",
    "model.summary()"
   ]
  },
  {
   "cell_type": "code",
   "execution_count": 28,
   "id": "4c3b8e58",
   "metadata": {},
   "outputs": [
    {
     "name": "stdout",
     "output_type": "stream",
     "text": [
      "<class 'scipy.sparse.csr.csr_matrix'>\n"
     ]
    }
   ],
   "source": [
    "print(type(X_train))\n"
   ]
  },
  {
   "cell_type": "markdown",
   "id": "5adc4b41",
   "metadata": {},
   "source": [
    "## train"
   ]
  },
  {
   "cell_type": "code",
   "execution_count": 29,
   "id": "6cb2910c",
   "metadata": {},
   "outputs": [],
   "source": [
    "# need to change to sparse tensor, so it can be model's input\n",
    "\n",
    "import tensorflow as tf\n",
    "\n",
    "def convert_sparse_matrix_to_sparse_tensor(X):\n",
    "    coo = X.tocoo()\n",
    "    indices = np.mat([coo.row, coo.col]).transpose()\n",
    "    return tf.sparse.reorder(tf.SparseTensor(indices, coo.data, coo.shape))\n",
    "\n",
    "X_train_enc = convert_sparse_matrix_to_sparse_tensor(X_train)\n",
    "X_test_enc = convert_sparse_matrix_to_sparse_tensor(X_test)"
   ]
  },
  {
   "cell_type": "code",
   "execution_count": 30,
   "id": "536e528e",
   "metadata": {},
   "outputs": [
    {
     "name": "stdout",
     "output_type": "stream",
     "text": [
      "Epoch 1/25\n"
     ]
    },
    {
     "name": "stderr",
     "output_type": "stream",
     "text": [
      "C:\\Users\\user\\anaconda3\\lib\\site-packages\\tensorflow\\python\\framework\\indexed_slices.py:444: UserWarning: Converting sparse IndexedSlices(IndexedSlices(indices=Tensor(\"gradient_tape/model/dense/embedding_lookup_sparse/Reshape_1:0\", shape=(None,), dtype=int32), values=Tensor(\"gradient_tape/model/dense/embedding_lookup_sparse/Reshape:0\", shape=(None, 64), dtype=float32), dense_shape=Tensor(\"gradient_tape/model/dense/embedding_lookup_sparse/Cast:0\", shape=(2,), dtype=int32))) to a dense Tensor of unknown shape. This may consume a large amount of memory.\n",
      "  warnings.warn(\n"
     ]
    },
    {
     "name": "stdout",
     "output_type": "stream",
     "text": [
      "113/113 [==============================] - 2s 9ms/step - loss: 1.3330 - accuracy: 0.3510 - val_loss: 1.2276 - val_accuracy: 0.5677\n",
      "Epoch 2/25\n",
      "113/113 [==============================] - 1s 8ms/step - loss: 0.7932 - accuracy: 0.7894 - val_loss: 0.7057 - val_accuracy: 0.7349\n",
      "Epoch 3/25\n",
      "113/113 [==============================] - 1s 8ms/step - loss: 0.3567 - accuracy: 0.8896 - val_loss: 0.6326 - val_accuracy: 0.7666\n",
      "Epoch 4/25\n",
      "113/113 [==============================] - 1s 8ms/step - loss: 0.2355 - accuracy: 0.9239 - val_loss: 0.6477 - val_accuracy: 0.7723\n",
      "Epoch 5/25\n",
      "113/113 [==============================] - 1s 8ms/step - loss: 0.1778 - accuracy: 0.9408 - val_loss: 0.6808 - val_accuracy: 0.7896\n",
      "Epoch 6/25\n",
      "113/113 [==============================] - 1s 8ms/step - loss: 0.1406 - accuracy: 0.9563 - val_loss: 0.7484 - val_accuracy: 0.7752\n",
      "Epoch 7/25\n",
      "113/113 [==============================] - 1s 8ms/step - loss: 0.1180 - accuracy: 0.9629 - val_loss: 0.8068 - val_accuracy: 0.7839\n",
      "Epoch 8/25\n",
      "113/113 [==============================] - 1s 8ms/step - loss: 0.1000 - accuracy: 0.9687 - val_loss: 0.8420 - val_accuracy: 0.7723\n",
      "Epoch 9/25\n",
      "113/113 [==============================] - 1s 8ms/step - loss: 0.0859 - accuracy: 0.9723 - val_loss: 0.8919 - val_accuracy: 0.7666\n",
      "Epoch 10/25\n",
      "113/113 [==============================] - 1s 9ms/step - loss: 0.0773 - accuracy: 0.9734 - val_loss: 0.9725 - val_accuracy: 0.7666\n",
      "Epoch 11/25\n",
      "113/113 [==============================] - 1s 8ms/step - loss: 0.0699 - accuracy: 0.9754 - val_loss: 0.9957 - val_accuracy: 0.7493\n",
      "Epoch 12/25\n",
      "113/113 [==============================] - 1s 8ms/step - loss: 0.0652 - accuracy: 0.9773 - val_loss: 1.0287 - val_accuracy: 0.7579\n",
      "Epoch 13/25\n",
      "113/113 [==============================] - 1s 7ms/step - loss: 0.0631 - accuracy: 0.9756 - val_loss: 1.0704 - val_accuracy: 0.7608\n",
      "Epoch 14/25\n",
      "113/113 [==============================] - 1s 8ms/step - loss: 0.0567 - accuracy: 0.9801 - val_loss: 1.1142 - val_accuracy: 0.7666\n",
      "Epoch 15/25\n",
      "113/113 [==============================] - 1s 8ms/step - loss: 0.0559 - accuracy: 0.9781 - val_loss: 1.0979 - val_accuracy: 0.7666\n",
      "Epoch 16/25\n",
      "113/113 [==============================] - 1s 8ms/step - loss: 0.0538 - accuracy: 0.9795 - val_loss: 1.1517 - val_accuracy: 0.7666\n",
      "Epoch 17/25\n",
      "113/113 [==============================] - 1s 12ms/step - loss: 0.0518 - accuracy: 0.9795 - val_loss: 1.1567 - val_accuracy: 0.7522\n",
      "Epoch 18/25\n",
      "113/113 [==============================] - 1s 12ms/step - loss: 0.0500 - accuracy: 0.9798 - val_loss: 1.1865 - val_accuracy: 0.7608\n",
      "Epoch 19/25\n",
      "113/113 [==============================] - 1s 11ms/step - loss: 0.0490 - accuracy: 0.9784 - val_loss: 1.2073 - val_accuracy: 0.7464\n",
      "Epoch 20/25\n",
      "113/113 [==============================] - 1s 10ms/step - loss: 0.0467 - accuracy: 0.9790 - val_loss: 1.2371 - val_accuracy: 0.7608\n",
      "Epoch 21/25\n",
      "113/113 [==============================] - 1s 10ms/step - loss: 0.0501 - accuracy: 0.9784 - val_loss: 1.2345 - val_accuracy: 0.7550\n",
      "Epoch 22/25\n",
      "113/113 [==============================] - 1s 11ms/step - loss: 0.0448 - accuracy: 0.9801 - val_loss: 1.2674 - val_accuracy: 0.7608\n",
      "Epoch 23/25\n",
      "113/113 [==============================] - 1s 12ms/step - loss: 0.0451 - accuracy: 0.9798 - val_loss: 1.2973 - val_accuracy: 0.7723\n",
      "Epoch 24/25\n",
      "113/113 [==============================] - 1s 11ms/step - loss: 0.0424 - accuracy: 0.9803 - val_loss: 1.3172 - val_accuracy: 0.7637\n",
      "Epoch 25/25\n",
      "113/113 [==============================] - 1s 11ms/step - loss: 0.0401 - accuracy: 0.9798 - val_loss: 1.3206 - val_accuracy: 0.7579\n",
      "training finish\n"
     ]
    }
   ],
   "source": [
    "from keras.callbacks import CSVLogger\n",
    "\n",
    "csv_logger = CSVLogger('logs/training_log.csv')\n",
    "\n",
    "# training setting\n",
    "epochs = 25\n",
    "batch_size = 32\n",
    "\n",
    "# training!\n",
    "history = model.fit(X_train_enc, Y_train, \n",
    "                    epochs=epochs, \n",
    "                    batch_size=batch_size,\n",
    "                    callbacks=[csv_logger],\n",
    "                    validation_data = (X_test_enc, Y_test))\n",
    "print('training finish')"
   ]
  },
  {
   "cell_type": "markdown",
   "id": "a229ee96",
   "metadata": {},
   "source": [
    "## predict"
   ]
  },
  {
   "cell_type": "code",
   "execution_count": 31,
   "id": "c186ba25",
   "metadata": {},
   "outputs": [
    {
     "name": "stdout",
     "output_type": "stream",
     "text": [
      "3/3 [==============================] - 0s 5ms/step\n"
     ]
    },
    {
     "data": {
      "text/plain": [
       "array(['fear', 'fear', 'anger', 'fear', 'fear'], dtype=object)"
      ]
     },
     "execution_count": 31,
     "metadata": {},
     "output_type": "execute_result"
    }
   ],
   "source": [
    "## predict\n",
    "pred_result = model.predict(X_test_enc, batch_size=128)\n",
    "pred_result = label_decode(label_encoder, pred_result)\n",
    "pred_result[:5]"
   ]
  },
  {
   "cell_type": "code",
   "execution_count": 32,
   "id": "90acaf28",
   "metadata": {},
   "outputs": [
    {
     "name": "stdout",
     "output_type": "stream",
     "text": [
      "testing accuracy: 0.76\n"
     ]
    }
   ],
   "source": [
    "from sklearn.metrics import accuracy_score\n",
    "\n",
    "print('testing accuracy: {}'.format(round(accuracy_score(label_decode(label_encoder, Y_test), pred_result), 2)))"
   ]
  },
  {
   "cell_type": "code",
   "execution_count": 33,
   "id": "ad606df1",
   "metadata": {},
   "outputs": [
    {
     "data": {
      "text/html": [
       "<div>\n",
       "<style scoped>\n",
       "    .dataframe tbody tr th:only-of-type {\n",
       "        vertical-align: middle;\n",
       "    }\n",
       "\n",
       "    .dataframe tbody tr th {\n",
       "        vertical-align: top;\n",
       "    }\n",
       "\n",
       "    .dataframe thead th {\n",
       "        text-align: right;\n",
       "    }\n",
       "</style>\n",
       "<table border=\"1\" class=\"dataframe\">\n",
       "  <thead>\n",
       "    <tr style=\"text-align: right;\">\n",
       "      <th></th>\n",
       "      <th>epoch</th>\n",
       "      <th>accuracy</th>\n",
       "      <th>loss</th>\n",
       "      <th>val_accuracy</th>\n",
       "      <th>val_loss</th>\n",
       "    </tr>\n",
       "  </thead>\n",
       "  <tbody>\n",
       "    <tr>\n",
       "      <th>0</th>\n",
       "      <td>0</td>\n",
       "      <td>0.350955</td>\n",
       "      <td>1.332991</td>\n",
       "      <td>0.567723</td>\n",
       "      <td>1.227619</td>\n",
       "    </tr>\n",
       "    <tr>\n",
       "      <th>1</th>\n",
       "      <td>1</td>\n",
       "      <td>0.789372</td>\n",
       "      <td>0.793209</td>\n",
       "      <td>0.734870</td>\n",
       "      <td>0.705741</td>\n",
       "    </tr>\n",
       "    <tr>\n",
       "      <th>2</th>\n",
       "      <td>2</td>\n",
       "      <td>0.889565</td>\n",
       "      <td>0.356700</td>\n",
       "      <td>0.766571</td>\n",
       "      <td>0.632583</td>\n",
       "    </tr>\n",
       "    <tr>\n",
       "      <th>3</th>\n",
       "      <td>3</td>\n",
       "      <td>0.923886</td>\n",
       "      <td>0.235524</td>\n",
       "      <td>0.772334</td>\n",
       "      <td>0.647651</td>\n",
       "    </tr>\n",
       "    <tr>\n",
       "      <th>4</th>\n",
       "      <td>4</td>\n",
       "      <td>0.940769</td>\n",
       "      <td>0.177825</td>\n",
       "      <td>0.789625</td>\n",
       "      <td>0.680812</td>\n",
       "    </tr>\n",
       "    <tr>\n",
       "      <th>5</th>\n",
       "      <td>5</td>\n",
       "      <td>0.956269</td>\n",
       "      <td>0.140595</td>\n",
       "      <td>0.775216</td>\n",
       "      <td>0.748366</td>\n",
       "    </tr>\n",
       "    <tr>\n",
       "      <th>6</th>\n",
       "      <td>6</td>\n",
       "      <td>0.962912</td>\n",
       "      <td>0.117994</td>\n",
       "      <td>0.783862</td>\n",
       "      <td>0.806768</td>\n",
       "    </tr>\n",
       "    <tr>\n",
       "      <th>7</th>\n",
       "      <td>7</td>\n",
       "      <td>0.968724</td>\n",
       "      <td>0.100036</td>\n",
       "      <td>0.772334</td>\n",
       "      <td>0.841984</td>\n",
       "    </tr>\n",
       "    <tr>\n",
       "      <th>8</th>\n",
       "      <td>8</td>\n",
       "      <td>0.972322</td>\n",
       "      <td>0.085886</td>\n",
       "      <td>0.766571</td>\n",
       "      <td>0.891884</td>\n",
       "    </tr>\n",
       "    <tr>\n",
       "      <th>9</th>\n",
       "      <td>9</td>\n",
       "      <td>0.973429</td>\n",
       "      <td>0.077345</td>\n",
       "      <td>0.766571</td>\n",
       "      <td>0.972521</td>\n",
       "    </tr>\n",
       "    <tr>\n",
       "      <th>10</th>\n",
       "      <td>10</td>\n",
       "      <td>0.975367</td>\n",
       "      <td>0.069893</td>\n",
       "      <td>0.749280</td>\n",
       "      <td>0.995663</td>\n",
       "    </tr>\n",
       "    <tr>\n",
       "      <th>11</th>\n",
       "      <td>11</td>\n",
       "      <td>0.977304</td>\n",
       "      <td>0.065224</td>\n",
       "      <td>0.757925</td>\n",
       "      <td>1.028746</td>\n",
       "    </tr>\n",
       "    <tr>\n",
       "      <th>12</th>\n",
       "      <td>12</td>\n",
       "      <td>0.975644</td>\n",
       "      <td>0.063076</td>\n",
       "      <td>0.760807</td>\n",
       "      <td>1.070440</td>\n",
       "    </tr>\n",
       "    <tr>\n",
       "      <th>13</th>\n",
       "      <td>13</td>\n",
       "      <td>0.980072</td>\n",
       "      <td>0.056661</td>\n",
       "      <td>0.766571</td>\n",
       "      <td>1.114206</td>\n",
       "    </tr>\n",
       "    <tr>\n",
       "      <th>14</th>\n",
       "      <td>14</td>\n",
       "      <td>0.978135</td>\n",
       "      <td>0.055892</td>\n",
       "      <td>0.766571</td>\n",
       "      <td>1.097944</td>\n",
       "    </tr>\n",
       "    <tr>\n",
       "      <th>15</th>\n",
       "      <td>15</td>\n",
       "      <td>0.979518</td>\n",
       "      <td>0.053780</td>\n",
       "      <td>0.766571</td>\n",
       "      <td>1.151714</td>\n",
       "    </tr>\n",
       "    <tr>\n",
       "      <th>16</th>\n",
       "      <td>16</td>\n",
       "      <td>0.979518</td>\n",
       "      <td>0.051752</td>\n",
       "      <td>0.752161</td>\n",
       "      <td>1.156734</td>\n",
       "    </tr>\n",
       "    <tr>\n",
       "      <th>17</th>\n",
       "      <td>17</td>\n",
       "      <td>0.979795</td>\n",
       "      <td>0.049979</td>\n",
       "      <td>0.760807</td>\n",
       "      <td>1.186471</td>\n",
       "    </tr>\n",
       "    <tr>\n",
       "      <th>18</th>\n",
       "      <td>18</td>\n",
       "      <td>0.978411</td>\n",
       "      <td>0.049046</td>\n",
       "      <td>0.746398</td>\n",
       "      <td>1.207297</td>\n",
       "    </tr>\n",
       "    <tr>\n",
       "      <th>19</th>\n",
       "      <td>19</td>\n",
       "      <td>0.978965</td>\n",
       "      <td>0.046672</td>\n",
       "      <td>0.760807</td>\n",
       "      <td>1.237102</td>\n",
       "    </tr>\n",
       "    <tr>\n",
       "      <th>20</th>\n",
       "      <td>20</td>\n",
       "      <td>0.978411</td>\n",
       "      <td>0.050142</td>\n",
       "      <td>0.755043</td>\n",
       "      <td>1.234493</td>\n",
       "    </tr>\n",
       "    <tr>\n",
       "      <th>21</th>\n",
       "      <td>21</td>\n",
       "      <td>0.980072</td>\n",
       "      <td>0.044828</td>\n",
       "      <td>0.760807</td>\n",
       "      <td>1.267364</td>\n",
       "    </tr>\n",
       "    <tr>\n",
       "      <th>22</th>\n",
       "      <td>22</td>\n",
       "      <td>0.979795</td>\n",
       "      <td>0.045131</td>\n",
       "      <td>0.772334</td>\n",
       "      <td>1.297305</td>\n",
       "    </tr>\n",
       "    <tr>\n",
       "      <th>23</th>\n",
       "      <td>23</td>\n",
       "      <td>0.980349</td>\n",
       "      <td>0.042422</td>\n",
       "      <td>0.763689</td>\n",
       "      <td>1.317241</td>\n",
       "    </tr>\n",
       "    <tr>\n",
       "      <th>24</th>\n",
       "      <td>24</td>\n",
       "      <td>0.979795</td>\n",
       "      <td>0.040068</td>\n",
       "      <td>0.757925</td>\n",
       "      <td>1.320636</td>\n",
       "    </tr>\n",
       "  </tbody>\n",
       "</table>\n",
       "</div>"
      ],
      "text/plain": [
       "    epoch  accuracy      loss  val_accuracy  val_loss\n",
       "0       0  0.350955  1.332991      0.567723  1.227619\n",
       "1       1  0.789372  0.793209      0.734870  0.705741\n",
       "2       2  0.889565  0.356700      0.766571  0.632583\n",
       "3       3  0.923886  0.235524      0.772334  0.647651\n",
       "4       4  0.940769  0.177825      0.789625  0.680812\n",
       "5       5  0.956269  0.140595      0.775216  0.748366\n",
       "6       6  0.962912  0.117994      0.783862  0.806768\n",
       "7       7  0.968724  0.100036      0.772334  0.841984\n",
       "8       8  0.972322  0.085886      0.766571  0.891884\n",
       "9       9  0.973429  0.077345      0.766571  0.972521\n",
       "10     10  0.975367  0.069893      0.749280  0.995663\n",
       "11     11  0.977304  0.065224      0.757925  1.028746\n",
       "12     12  0.975644  0.063076      0.760807  1.070440\n",
       "13     13  0.980072  0.056661      0.766571  1.114206\n",
       "14     14  0.978135  0.055892      0.766571  1.097944\n",
       "15     15  0.979518  0.053780      0.766571  1.151714\n",
       "16     16  0.979518  0.051752      0.752161  1.156734\n",
       "17     17  0.979795  0.049979      0.760807  1.186471\n",
       "18     18  0.978411  0.049046      0.746398  1.207297\n",
       "19     19  0.978965  0.046672      0.760807  1.237102\n",
       "20     20  0.978411  0.050142      0.755043  1.234493\n",
       "21     21  0.980072  0.044828      0.760807  1.267364\n",
       "22     22  0.979795  0.045131      0.772334  1.297305\n",
       "23     23  0.980349  0.042422      0.763689  1.317241\n",
       "24     24  0.979795  0.040068      0.757925  1.320636"
      ]
     },
     "execution_count": 33,
     "metadata": {},
     "output_type": "execute_result"
    }
   ],
   "source": [
    "#Let's take a look at the training log\n",
    "training_log = pd.DataFrame()\n",
    "training_log = pd.read_csv(\"logs/training_log.csv\")\n",
    "training_log"
   ]
  },
  {
   "cell_type": "markdown",
   "id": "60423673",
   "metadata": {},
   "source": [
    "---\n",
    "### ** >>> Exercise 6 (Take home): **  \n",
    "\n",
    "    Plot the Training and Validation Accuracy and Loss (different plots), just like the images below.(Note: the pictures below are an example from a different model). How to interpret the graphs you got? How are they related to the concept of overfitting/underfitting covered in class?\n",
    "<table><tr>\n",
    "    <td><img src=\"pics/pic3.png\" style=\"width: 300px;\"/> </td>\n",
    "    <td><img src=\"pics/pic4.png\" style=\"width: 300px;\"/> </td>\n",
    "</tr></table>"
   ]
  },
  {
   "cell_type": "code",
   "execution_count": 34,
   "id": "186fb42f",
   "metadata": {},
   "outputs": [
    {
     "data": {
      "image/png": "[encoded data removed]",
      "text/plain": [
       "<Figure size 1152x360 with 2 Axes>"
      ]
     },
     "metadata": {
      "needs_background": "light"
     },
     "output_type": "display_data"
    }
   ],
   "source": [
    "import matplotlib.pyplot as plt\n",
    "\n",
    "plt.figure(figsize=(16, 5))\n",
    "fig = plt.subplot(1, 2, 1)\n",
    "\n",
    "fig.plot(training_log.epoch, training_log.accuracy, label='Train accuracy')\n",
    "fig.plot(training_log.epoch, training_log.val_accuracy, label='Val accuracy')\n",
    "fig.set_xlabel('Epoches')\n",
    "fig.set_ylabel('Accuracy')\n",
    "fig.set_title('Training Accuracy per epoch')\n",
    "fig.legend()\n",
    "\n",
    "fig = plt.subplot(1, 2, 2)\n",
    "\n",
    "fig.plot(training_log.epoch, training_log.loss, label='Train loss')\n",
    "fig.plot(training_log.epoch, training_log.val_loss, label='Val loss')\n",
    "fig.set_xlabel('Epoches')\n",
    "fig.set_ylabel('Loss')\n",
    "fig.set_title('Training Loss per epoch')\n",
    "fig.legend()\n",
    "\n",
    "plt.show()"
   ]
  },
  {
   "cell_type": "markdown",
   "id": "88c7f141",
   "metadata": {},
   "source": [
    "Discussion:\n",
    "\n",
    "我認為因為資料集還算小，而且這是binary classification，所以用簡單的模型即可train出好的結果。\n",
    "\n",
    "從accuracy可以看到，前10個epoch基本上就已經train到一個穩定的地方。\n",
    "\n",
    "從loss也可以看到train loss有很明顯的下降，所以也算是有train到。\n",
    "\n",
    "然而在test的部分，因為是沒看過的資料，所以在accuracy和loss都會表現較差。\n",
    "\n",
    "而loss在後面甚至越來越高，有可能因為模型過度符合training data，在不到5個epoch就有overfit的現象。"
   ]
  },
  {
   "cell_type": "markdown",
   "id": "99ab5860",
   "metadata": {},
   "source": [
    "# W2V"
   ]
  },
  {
   "cell_type": "code",
   "execution_count": 35,
   "id": "0f9b3e55",
   "metadata": {},
   "outputs": [
    {
     "data": {
      "text/html": [
       "<div>\n",
       "<style scoped>\n",
       "    .dataframe tbody tr th:only-of-type {\n",
       "        vertical-align: middle;\n",
       "    }\n",
       "\n",
       "    .dataframe tbody tr th {\n",
       "        vertical-align: top;\n",
       "    }\n",
       "\n",
       "    .dataframe thead th {\n",
       "        text-align: right;\n",
       "    }\n",
       "</style>\n",
       "<table border=\"1\" class=\"dataframe\">\n",
       "  <thead>\n",
       "    <tr style=\"text-align: right;\">\n",
       "      <th></th>\n",
       "      <th>id</th>\n",
       "      <th>text</th>\n",
       "      <th>text_tokenized</th>\n",
       "    </tr>\n",
       "  </thead>\n",
       "  <tbody>\n",
       "    <tr>\n",
       "      <th>479</th>\n",
       "      <td>10479</td>\n",
       "      <td>Nick said he's territorial and he'll growl if ...</td>\n",
       "      <td>[Nick, said, he, 's, territorial, and, he, 'll...</td>\n",
       "    </tr>\n",
       "    <tr>\n",
       "      <th>2617</th>\n",
       "      <td>30613</td>\n",
       "      <td>#Talking about our #Problems is our greatest #...</td>\n",
       "      <td>[#, Talking, about, our, #, Problems, is, our,...</td>\n",
       "    </tr>\n",
       "    <tr>\n",
       "      <th>422</th>\n",
       "      <td>10422</td>\n",
       "      <td>Drop Snapchat names #bored #snap #swap #pics</td>\n",
       "      <td>[Drop, Snapchat, names, #, bored, #, snap, #, ...</td>\n",
       "    </tr>\n",
       "    <tr>\n",
       "      <th>753</th>\n",
       "      <td>10753</td>\n",
       "      <td>@Klipto the orange one is #poisonous and #bitt...</td>\n",
       "      <td>[@, Klipto, the, orange, one, is, #, poisonous...</td>\n",
       "    </tr>\n",
       "    <tr>\n",
       "      <th>682</th>\n",
       "      <td>10682</td>\n",
       "      <td>I can't guess if you holding a grudge against...</td>\n",
       "      <td>[I, ca, n't, guess, if, you, holding, a, grudg...</td>\n",
       "    </tr>\n",
       "  </tbody>\n",
       "</table>\n",
       "</div>"
      ],
      "text/plain": [
       "         id                                               text  \\\n",
       "479   10479  Nick said he's territorial and he'll growl if ...   \n",
       "2617  30613  #Talking about our #Problems is our greatest #...   \n",
       "422   10422       Drop Snapchat names #bored #snap #swap #pics   \n",
       "753   10753  @Klipto the orange one is #poisonous and #bitt...   \n",
       "682   10682   I can't guess if you holding a grudge against...   \n",
       "\n",
       "                                         text_tokenized  \n",
       "479   [Nick, said, he, 's, territorial, and, he, 'll...  \n",
       "2617  [#, Talking, about, our, #, Problems, is, our,...  \n",
       "422   [Drop, Snapchat, names, #, bored, #, snap, #, ...  \n",
       "753   [@, Klipto, the, orange, one, is, #, poisonous...  \n",
       "682   [I, ca, n't, guess, if, you, holding, a, grudg...  "
      ]
     },
     "execution_count": 35,
     "metadata": {},
     "output_type": "execute_result"
    }
   ],
   "source": [
    "## check library\n",
    "import gensim\n",
    "\n",
    "## the input type\n",
    "train_df['text_tokenized'] = train_df['text'].apply(lambda x: nltk.word_tokenize(x))\n",
    "train_df[['id', 'text', 'text_tokenized']].head()"
   ]
  },
  {
   "cell_type": "code",
   "execution_count": 36,
   "id": "fdef4622",
   "metadata": {},
   "outputs": [
    {
     "data": {
      "text/plain": [
       "array([list(['Nick', 'said', 'he', \"'s\", 'territorial', 'and', 'he', \"'ll\", 'growl', 'if', 'someone', 'gets', 'too', 'close', 'to', 'me', '#', 'hesananimal']),\n",
       "       list(['#', 'Talking', 'about', 'our', '#', 'Problems', 'is', 'our', 'greatest', '#', 'Addiction', '#', 'Break', 'the', '#', 'habitTalk', 'about', 'ur', '#', 'Joys', '#', 'quote', '#', 'optimism', '#', 'problemsolving', '#', 'behappy']),\n",
       "       list(['Drop', 'Snapchat', 'names', '#', 'bored', '#', 'snap', '#', 'swap', '#', 'pics'])],\n",
       "      dtype=object)"
      ]
     },
     "execution_count": 36,
     "metadata": {},
     "output_type": "execute_result"
    }
   ],
   "source": [
    "## create the training corpus\n",
    "training_corpus = train_df['text_tokenized'].values\n",
    "training_corpus[:3]"
   ]
  },
  {
   "cell_type": "markdown",
   "id": "935a8d62",
   "metadata": {},
   "source": [
    "use pretrained model GoogleNews-vectors-negative300"
   ]
  },
  {
   "cell_type": "code",
   "execution_count": 37,
   "id": "e77e0099",
   "metadata": {},
   "outputs": [
    {
     "name": "stdout",
     "output_type": "stream",
     "text": [
      "load ok\n"
     ]
    },
    {
     "data": {
      "text/plain": [
       "[('glad', 0.7408890724182129),\n",
       " ('pleased', 0.6632170677185059),\n",
       " ('ecstatic', 0.6626912355422974),\n",
       " ('overjoyed', 0.6599286794662476),\n",
       " ('thrilled', 0.6514049172401428),\n",
       " ('satisfied', 0.6437949538230896),\n",
       " ('proud', 0.636042058467865),\n",
       " ('delighted', 0.6272379159927368),\n",
       " ('disappointed', 0.6269949674606323),\n",
       " ('excited', 0.6247665882110596)]"
      ]
     },
     "execution_count": 37,
     "metadata": {},
     "output_type": "execute_result"
    }
   ],
   "source": [
    "from gensim.models import KeyedVectors\n",
    "\n",
    "## Note: this model is very huge, this will take some time ...\n",
    "model_path = \"GoogleNews/GoogleNews-vectors-negative300.bin.gz\"\n",
    "w2v_google_model = KeyedVectors.load_word2vec_format(model_path, binary=True)\n",
    "print('load ok')\n",
    "\n",
    "w2v_google_model.most_similar('happy', topn=10)"
   ]
  },
  {
   "cell_type": "markdown",
   "id": "d0266a19",
   "metadata": {},
   "source": [
    "---\n",
    "### ** >>> Exercise 7 (Take home): **  \n",
    "\n",
    "Now, we have the word vectors, but our input data is a sequence of words (or say sentence). \n",
    "How can we utilize these \"word\" vectors to represent the sentence data and train our model?"
   ]
  },
  {
   "cell_type": "markdown",
   "id": "1b87dec1",
   "metadata": {},
   "source": [
    "Answer:\n",
    "\n",
    "First, we need to tokenize our sentences. After tokenized, put each word into w2v model, it should output each word's vector.\n",
    "The dimension of vector is according to the pretrained model we use.\n",
    "\n",
    "In our model, if it is DL, we can use embedding layer to give each vector an implied meaning, then it can be put into model for training.\n",
    "\n",
    "For the exmaple code about w2v model, I use \"glove-twitter\" w2v model in kaggle competition."
   ]
  },
  {
   "cell_type": "markdown",
   "id": "ce95a1d5",
   "metadata": {},
   "source": [
    "---\n",
    "### ** >>> Exercise 8 (Take home): **  \n",
    "\n",
    "Generate a t-SNE visualization to show the 15 words most related to the words \"angry\", \"happy\", \"sad\", \"fear\" (60 words total)."
   ]
  },
  {
   "cell_type": "code",
   "execution_count": 38,
   "id": "e3ea9dc9",
   "metadata": {},
   "outputs": [
    {
     "name": "stdout",
     "output_type": "stream",
     "text": [
      "\n",
      "target words: \n",
      "['irate', 'enraged', 'indignant', 'incensed', 'annoyed', 'agitated', 'frustrated', 'furious', 'unhappy', 'outraged', 'livid', 'irritated', 'exasperated', 'angrier', 'Angry', 'glad', 'pleased', 'ecstatic', 'overjoyed', 'thrilled', 'satisfied', 'proud', 'delighted', 'disappointed', 'excited', 'happier', 'Said_Hirschbeck', 'elated', 'thankful', 'unhappy', 'saddening', 'Sad', 'saddened', 'heartbreaking', 'disheartening', 'Meny_Friedman', 'parishioner_Pat_Patello', 'saddens_me', 'distressing', 'reminders_bobbing', 'Turkoman_Shiites', 'saddest', 'unfortunate', 'sorry', 'bittersweet', 'fearful', 'fears', 'Fear', 'fearing', 'worry', 'dread', 'feared', 'anxiety', 'apprehension', 'afraid', 'worries', 'concern', 'distrust', 'worried', 'Fearful']\n",
      "\n",
      "color list:\n",
      "['red', 'red', 'red', 'red', 'red', 'red', 'red', 'red', 'red', 'red', 'red', 'red', 'red', 'red', 'red', 'yellow', 'yellow', 'yellow', 'yellow', 'yellow', 'yellow', 'yellow', 'yellow', 'yellow', 'yellow', 'yellow', 'yellow', 'yellow', 'yellow', 'yellow', 'gray', 'gray', 'gray', 'gray', 'gray', 'gray', 'gray', 'gray', 'gray', 'gray', 'gray', 'gray', 'gray', 'gray', 'gray', 'black', 'black', 'black', 'black', 'black', 'black', 'black', 'black', 'black', 'black', 'black', 'black', 'black', 'black', 'black']\n"
     ]
    }
   ],
   "source": [
    "word_list = ['angry', 'happy', 'sad', 'fear']\n",
    "\n",
    "topn = 15\n",
    "angry_words = [word_ for word_, sim_ in w2v_google_model.most_similar('angry', topn=topn)]\n",
    "happy_words = [word_ for word_, sim_ in w2v_google_model.most_similar('happy', topn=topn)]        \n",
    "sad_words = [word_ for word_, sim_ in w2v_google_model.most_similar('sad', topn=topn)]        \n",
    "fear_words = [word_ for word_, sim_ in w2v_google_model.most_similar('fear', topn=topn)]        \n",
    "\n",
    "target_words = angry_words + happy_words + sad_words + fear_words\n",
    "print('\\ntarget words: ')\n",
    "print(target_words)\n",
    "\n",
    "print('\\ncolor list:')\n",
    "cn = topn\n",
    "color = ['red'] * cn + ['yellow'] * cn + ['gray'] * cn + ['black'] * cn\n",
    "print(color)"
   ]
  },
  {
   "cell_type": "code",
   "execution_count": 39,
   "id": "11033a1d",
   "metadata": {
    "scrolled": false
   },
   "outputs": [
    {
     "name": "stderr",
     "output_type": "stream",
     "text": [
      "C:\\Users\\user\\anaconda3\\lib\\site-packages\\sklearn\\manifold\\_t_sne.py:780: FutureWarning: The default initialization in TSNE will change from 'random' to 'pca' in 1.2.\n",
      "  warnings.warn(\n",
      "C:\\Users\\user\\anaconda3\\lib\\site-packages\\sklearn\\manifold\\_t_sne.py:790: FutureWarning: The default learning rate in TSNE will change from 200.0 to 'auto' in 1.2.\n",
      "  warnings.warn(\n",
      "C:\\Users\\user\\anaconda3\\lib\\site-packages\\sklearn\\manifold\\_t_sne.py:819: FutureWarning: 'square_distances' has been introduced in 0.24 to help phase out legacy squaring behavior. The 'legacy' setting will be removed in 1.1 (renaming of 0.26), and the default setting will be changed to True. In 1.3, 'square_distances' will be removed altogether, and distances will be squared by default. Set 'square_distances'=True to silence this warning.\n",
      "  warnings.warn(\n"
     ]
    },
    {
     "data": {
      "image/png": "[encoded data removed]",
      "text/plain": [
       "<Figure size 862.5x862.5 with 1 Axes>"
      ]
     },
     "metadata": {
      "needs_background": "light"
     },
     "output_type": "display_data"
    }
   ],
   "source": [
    "from sklearn.manifold import TSNE\n",
    "\n",
    "## w2v model\n",
    "model = w2v_google_model\n",
    "\n",
    "## prepare training word vectors\n",
    "size = 200\n",
    "target_size = len(target_words)\n",
    "all_word = list(model.index_to_key)\n",
    "word_train = target_words + all_word[:size]\n",
    "X_train = model[word_train]\n",
    "\n",
    "## t-SNE model\n",
    "tsne = TSNE(n_components=2, metric='cosine', random_state=28)\n",
    "\n",
    "## training\n",
    "X_tsne = tsne.fit_transform(X_train)\n",
    "\n",
    "## plot the result\n",
    "plt.figure(figsize=(7.5, 7.5), dpi=115)\n",
    "plt.scatter(X_tsne[:target_size, 0], X_tsne[:target_size, 1], c=color)\n",
    "for label, x, y in zip(target_words, X_tsne[:target_size, 0], X_tsne[:target_size, 1]):\n",
    "    plt.annotate(label, xy=(x,y), xytext=(0,0),  textcoords='offset points')\n",
    "plt.show()"
   ]
  },
  {
   "cell_type": "code",
   "execution_count": null,
   "id": "38a1a590",
   "metadata": {},
   "outputs": [],
   "source": []
  }
 ],
 "metadata": {
  "kernelspec": {
   "display_name": "Python 3 (ipykernel)",
   "language": "python",
   "name": "python3"
  },
  "language_info": {
   "codemirror_mode": {
    "name": "ipython",
    "version": 3
   },
   "file_extension": ".py",
   "mimetype": "text/x-python",
   "name": "python",
   "nbconvert_exporter": "python",
   "pygments_lexer": "ipython3",
   "version": "3.9.12"
  }
 },
 "nbformat": 4,
 "nbformat_minor": 5
}
