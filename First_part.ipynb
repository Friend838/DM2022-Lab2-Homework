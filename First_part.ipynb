{
 "cells": [
  {
   "cell_type": "markdown",
   "id": "3ddd3db3",
   "metadata": {},
   "source": [
    "# Data preparation"
   ]
  },
  {
   "cell_type": "code",
   "execution_count": 1,
   "id": "153fa9f8",
   "metadata": {},
   "outputs": [],
   "source": [
    "import pandas as pd\n",
    "\n",
    "### training data\n",
    "anger_train = pd.read_csv(\"data/semeval/train/anger-ratings-0to1.train.txt\",\n",
    "                         sep=\"\\t\", header=None,names=[\"id\", \"text\", \"emotion\", \"intensity\"])\n",
    "sadness_train = pd.read_csv(\"data/semeval/train/sadness-ratings-0to1.train.txt\",\n",
    "                         sep=\"\\t\", header=None, names=[\"id\", \"text\", \"emotion\", \"intensity\"])\n",
    "fear_train = pd.read_csv(\"data/semeval/train/fear-ratings-0to1.train.txt\",\n",
    "                         sep=\"\\t\", header=None, names=[\"id\", \"text\", \"emotion\", \"intensity\"])\n",
    "joy_train = pd.read_csv(\"data/semeval/train/joy-ratings-0to1.train.txt\",\n",
    "                         sep=\"\\t\", header=None, names=[\"id\", \"text\", \"emotion\", \"intensity\"])"
   ]
  },
  {
   "cell_type": "code",
   "execution_count": 2,
   "id": "afd50ea9",
   "metadata": {},
   "outputs": [],
   "source": [
    "train_df = pd.concat([anger_train, fear_train, joy_train, sadness_train], ignore_index=True)"
   ]
  },
  {
   "cell_type": "code",
   "execution_count": 3,
   "id": "1d99025b",
   "metadata": {},
   "outputs": [
    {
     "data": {
      "text/html": [
       "<div>\n",
       "<style scoped>\n",
       "    .dataframe tbody tr th:only-of-type {\n",
       "        vertical-align: middle;\n",
       "    }\n",
       "\n",
       "    .dataframe tbody tr th {\n",
       "        vertical-align: top;\n",
       "    }\n",
       "\n",
       "    .dataframe thead th {\n",
       "        text-align: right;\n",
       "    }\n",
       "</style>\n",
       "<table border=\"1\" class=\"dataframe\">\n",
       "  <thead>\n",
       "    <tr style=\"text-align: right;\">\n",
       "      <th></th>\n",
       "      <th>id</th>\n",
       "      <th>text</th>\n",
       "      <th>emotion</th>\n",
       "      <th>intensity</th>\n",
       "    </tr>\n",
       "  </thead>\n",
       "  <tbody>\n",
       "    <tr>\n",
       "      <th>0</th>\n",
       "      <td>10000</td>\n",
       "      <td>How the fu*k! Who the heck! moved my fridge!.....</td>\n",
       "      <td>anger</td>\n",
       "      <td>0.938</td>\n",
       "    </tr>\n",
       "    <tr>\n",
       "      <th>1</th>\n",
       "      <td>10001</td>\n",
       "      <td>So my Indian Uber driver just called someone t...</td>\n",
       "      <td>anger</td>\n",
       "      <td>0.896</td>\n",
       "    </tr>\n",
       "    <tr>\n",
       "      <th>2</th>\n",
       "      <td>10002</td>\n",
       "      <td>@DPD_UK I asked for my parcel to be delivered ...</td>\n",
       "      <td>anger</td>\n",
       "      <td>0.896</td>\n",
       "    </tr>\n",
       "    <tr>\n",
       "      <th>3</th>\n",
       "      <td>10003</td>\n",
       "      <td>so ef whichever butt wipe pulled the fire alar...</td>\n",
       "      <td>anger</td>\n",
       "      <td>0.896</td>\n",
       "    </tr>\n",
       "    <tr>\n",
       "      <th>4</th>\n",
       "      <td>10004</td>\n",
       "      <td>Don't join @BTCare they put the phone down on ...</td>\n",
       "      <td>anger</td>\n",
       "      <td>0.896</td>\n",
       "    </tr>\n",
       "  </tbody>\n",
       "</table>\n",
       "</div>"
      ],
      "text/plain": [
       "      id                                               text emotion  intensity\n",
       "0  10000  How the fu*k! Who the heck! moved my fridge!.....   anger      0.938\n",
       "1  10001  So my Indian Uber driver just called someone t...   anger      0.896\n",
       "2  10002  @DPD_UK I asked for my parcel to be delivered ...   anger      0.896\n",
       "3  10003  so ef whichever butt wipe pulled the fire alar...   anger      0.896\n",
       "4  10004  Don't join @BTCare they put the phone down on ...   anger      0.896"
      ]
     },
     "execution_count": 3,
     "metadata": {},
     "output_type": "execute_result"
    }
   ],
   "source": [
    "### testing data\n",
    "anger_test = pd.read_csv(\"data/semeval/dev/anger-ratings-0to1.dev.gold.txt\",\n",
    "                         sep=\"\\t\", header=None, names=[\"id\", \"text\", \"emotion\", \"intensity\"])\n",
    "sadness_test = pd.read_csv(\"data/semeval/dev/sadness-ratings-0to1.dev.gold.txt\",\n",
    "                         sep=\"\\t\", header=None, names=[\"id\", \"text\", \"emotion\", \"intensity\"])\n",
    "fear_test = pd.read_csv(\"data/semeval/dev/fear-ratings-0to1.dev.gold.txt\",\n",
    "                         sep=\"\\t\", header=None, names=[\"id\", \"text\", \"emotion\", \"intensity\"])\n",
    "joy_test = pd.read_csv(\"data/semeval/dev/joy-ratings-0to1.dev.gold.txt\",\n",
    "                         sep=\"\\t\", header=None, names=[\"id\", \"text\", \"emotion\", \"intensity\"])\n",
    "\n",
    "# combine 4 sub-dataset\n",
    "test_df = pd.concat([anger_test, fear_test, joy_test, sadness_test], ignore_index=True)\n",
    "train_df.head()"
   ]
  },
  {
   "cell_type": "code",
   "execution_count": 4,
   "id": "16f00a2b",
   "metadata": {},
   "outputs": [
    {
     "name": "stdout",
     "output_type": "stream",
     "text": [
      "Shape of Training df:  (3613, 4)\n",
      "Shape of Testing df:  (347, 4)\n"
     ]
    }
   ],
   "source": [
    "# shuffle dataset\n",
    "train_df = train_df.sample(frac=1)\n",
    "test_df = test_df.sample(frac=1)\n",
    "\n",
    "print(\"Shape of Training df: \", train_df.shape)\n",
    "print(\"Shape of Testing df: \", test_df.shape)"
   ]
  },
  {
   "cell_type": "markdown",
   "id": "45de73e4",
   "metadata": {},
   "source": [
    "---\n",
    "### ** >>> Exercise 1 (Take home): **  \n",
    "Plot word frequency for Top 30 words in both train and test dataset. (Hint: refer to DM lab 1)"
   ]
  },
  {
   "cell_type": "code",
   "execution_count": 5,
   "id": "593120c0",
   "metadata": {},
   "outputs": [],
   "source": [
    "import numpy as np\n",
    "from sklearn.feature_extraction.text import CountVectorizer\n",
    "count_vect = CountVectorizer()"
   ]
  },
  {
   "cell_type": "code",
   "execution_count": 6,
   "id": "ddc8c6e5",
   "metadata": {},
   "outputs": [
    {
     "data": {
      "text/plain": [
       "(3613, 10115)"
      ]
     },
     "execution_count": 6,
     "metadata": {},
     "output_type": "execute_result"
    }
   ],
   "source": [
    "train_counts = count_vect.fit_transform(train_df.text) #learn the vocabulary and return document-term matrix\n",
    "train_counts.shape"
   ]
  },
  {
   "cell_type": "code",
   "execution_count": 7,
   "id": "62b464bf",
   "metadata": {},
   "outputs": [],
   "source": [
    "term_frequencies_in_trains = np.asarray(train_counts.sum(axis=0))[0]\n",
    "# when we are sorting frequencies, indexs need to be swapped too\n",
    "index_trains = np.argsort(term_frequencies_in_trains)[::-1]  # [::-1]: reverse\n",
    "term_frequencies_in_trains = np.sort(term_frequencies_in_trains)[::-1]"
   ]
  },
  {
   "cell_type": "code",
   "execution_count": 8,
   "id": "451aa14a",
   "metadata": {
    "scrolled": true
   },
   "outputs": [
    {
     "name": "stderr",
     "output_type": "stream",
     "text": [
      "C:\\Users\\user\\anaconda3\\lib\\site-packages\\sklearn\\utils\\deprecation.py:87: FutureWarning: Function get_feature_names is deprecated; get_feature_names is deprecated in 1.0 and will be removed in 1.2. Please use get_feature_names_out instead.\n",
      "  warnings.warn(msg, category=FutureWarning)\n"
     ]
    },
    {
     "data": {
      "text/plain": [
       "['the',\n",
       " 'to',\n",
       " 'and',\n",
       " 'you',\n",
       " 'of',\n",
       " 'is',\n",
       " 'it',\n",
       " 'in',\n",
       " 'that',\n",
       " 'my',\n",
       " 'for',\n",
       " 'on',\n",
       " 'be',\n",
       " 'me',\n",
       " 'this',\n",
       " 'so',\n",
       " 'have',\n",
       " 'not',\n",
       " 'just',\n",
       " 'but',\n",
       " 'with',\n",
       " 'at',\n",
       " 'can',\n",
       " 'like',\n",
       " 'all',\n",
       " 'are',\n",
       " 'your',\n",
       " 'was',\n",
       " 'when',\n",
       " 'if']"
      ]
     },
     "execution_count": 8,
     "metadata": {},
     "output_type": "execute_result"
    }
   ],
   "source": [
    "# we already get the indexes of sorted counts, and now we need to print it out\n",
    "# use \"temp\" to store words\n",
    "top30_word_in_trains = []\n",
    "for i in index_trains[:30]:\n",
    "    top30_word_in_trains.append(count_vect.get_feature_names()[i])\n",
    "\n",
    "top30_word_in_trains"
   ]
  },
  {
   "cell_type": "code",
   "execution_count": 9,
   "id": "f17946b4",
   "metadata": {},
   "outputs": [
    {
     "data": {
      "text/plain": [
       "(347, 1949)"
      ]
     },
     "execution_count": 9,
     "metadata": {},
     "output_type": "execute_result"
    }
   ],
   "source": [
    "test_counts = count_vect.fit_transform(test_df.text)\n",
    "test_counts.shape"
   ]
  },
  {
   "cell_type": "code",
   "execution_count": 10,
   "id": "8812086b",
   "metadata": {},
   "outputs": [],
   "source": [
    "term_frequencies_in_tests = np.asarray(test_counts.sum(axis=0))[0]\n",
    "index_tests = np.argsort(term_frequencies_in_tests)[::-1]\n",
    "term_frequencies_in_tests = np.sort(term_frequencies_in_tests)[::-1]"
   ]
  },
  {
   "cell_type": "code",
   "execution_count": 11,
   "id": "60b67d1f",
   "metadata": {
    "scrolled": true
   },
   "outputs": [
    {
     "data": {
      "text/plain": [
       "['the',\n",
       " 'to',\n",
       " 'and',\n",
       " 'it',\n",
       " 'of',\n",
       " 'you',\n",
       " 'is',\n",
       " 'in',\n",
       " 'for',\n",
       " 'that',\n",
       " 'my',\n",
       " 'on',\n",
       " 'be',\n",
       " 'me',\n",
       " 'was',\n",
       " 'so',\n",
       " 'can',\n",
       " 'at',\n",
       " 'have',\n",
       " 'all',\n",
       " 'just',\n",
       " 'are',\n",
       " 'with',\n",
       " 'but',\n",
       " 'get',\n",
       " 'your',\n",
       " 'up',\n",
       " 'this',\n",
       " 'like',\n",
       " 'not']"
      ]
     },
     "execution_count": 11,
     "metadata": {},
     "output_type": "execute_result"
    }
   ],
   "source": [
    "top30_word_in_tests = []\n",
    "for i in index_tests[:30]:\n",
    "    top30_word_in_tests.append(count_vect.get_feature_names()[i])\n",
    "\n",
    "top30_word_in_tests"
   ]
  },
  {
   "cell_type": "markdown",
   "id": "5b3654f0",
   "metadata": {},
   "source": [
    "---\n",
    "### ** >>> Exercise 2 (Take home): **  \n",
    "Generate an embedding using the TF-IDF vectorizer instead of th BOW one with 1000 features and show the feature names for features [100:110]."
   ]
  },
  {
   "cell_type": "code",
   "execution_count": 12,
   "id": "c275c18e",
   "metadata": {},
   "outputs": [],
   "source": [
    "import nltk\n",
    "from sklearn.feature_extraction.text import TfidfVectorizer\n",
    "TFIDF_vectorizer = TfidfVectorizer(max_features=1000, tokenizer=nltk.word_tokenize)"
   ]
  },
  {
   "cell_type": "code",
   "execution_count": 13,
   "id": "ac2e5c71",
   "metadata": {},
   "outputs": [
    {
     "name": "stderr",
     "output_type": "stream",
     "text": [
      "C:\\Users\\user\\anaconda3\\lib\\site-packages\\sklearn\\feature_extraction\\text.py:516: UserWarning: The parameter 'token_pattern' will not be used since 'tokenizer' is not None'\n",
      "  warnings.warn(\n"
     ]
    }
   ],
   "source": [
    "# 1. Learn a vocabulary dictionary of all tokens in the raw documents.\n",
    "TFIDF_vectorizer.fit(train_df['text'])\n",
    "\n",
    "# 2. Transform documents to document-term matrix.\n",
    "train_data_TFIDF_features = TFIDF_vectorizer.transform(train_df['text'])"
   ]
  },
  {
   "cell_type": "code",
   "execution_count": 14,
   "id": "e59c5b05",
   "metadata": {},
   "outputs": [
    {
     "data": {
      "text/plain": [
       "['awful', 'b', 'baby', 'back', 'bad', 'ball', 'balls', 'bb18', 'bc', 'bday']"
      ]
     },
     "execution_count": 14,
     "metadata": {},
     "output_type": "execute_result"
    }
   ],
   "source": [
    "feature_names = TFIDF_vectorizer.get_feature_names()\n",
    "feature_names[100:110]"
   ]
  },
  {
   "attachments": {
    "image.png": {
     "image/png": "[encoded data removed]"
    }
   },
   "cell_type": "markdown",
   "id": "15be7341",
   "metadata": {},
   "source": [
    "---\n",
    "### ** >>> Exercise 3 (Take home): **  \n",
    "Can you interpret the results ? What do they mean?\n",
    "\n",
    "![image.png](attachment:image.png)"
   ]
  },
  {
   "cell_type": "markdown",
   "id": "83ca21c5",
   "metadata": {},
   "source": [
    "Answer:\n",
    "After decision tree classified, we can see the majority of datas are well predicted, but there are still some minor datas mispredict. Another problem is the total number of datas in each category, apparently, \"fear\" has more datas then others', so creating more test datas can show more information about the model on different category."
   ]
  },
  {
   "cell_type": "markdown",
   "id": "25032e56",
   "metadata": {},
   "source": [
    "---\n",
    "### ** >>> Exercise 4 (Take home): **  \n",
    "Build a model using a ```Naive Bayes``` model and train it. What are the testing results? "
   ]
  },
  {
   "cell_type": "code",
   "execution_count": 15,
   "id": "0a5ddd0b",
   "metadata": {},
   "outputs": [],
   "source": [
    "from sklearn.metrics import accuracy_score\n",
    "from sklearn.naive_bayes import MultinomialNB"
   ]
  },
  {
   "cell_type": "code",
   "execution_count": 16,
   "id": "3354731b",
   "metadata": {},
   "outputs": [
    {
     "data": {
      "text/plain": [
       "TfidfVectorizer(max_features=1000,\n",
       "                tokenizer=<function word_tokenize at 0x0000015B99288700>)"
      ]
     },
     "execution_count": 16,
     "metadata": {},
     "output_type": "execute_result"
    }
   ],
   "source": [
    "# use TFIDF feature\n",
    "TFIDF_vectorizer = TfidfVectorizer(max_features=1000, tokenizer=nltk.word_tokenize)\n",
    "TFIDF_vectorizer.fit(train_df.text)"
   ]
  },
  {
   "cell_type": "code",
   "execution_count": 17,
   "id": "fd4fed73",
   "metadata": {},
   "outputs": [
    {
     "name": "stdout",
     "output_type": "stream",
     "text": [
      "X_train.shape:  (3613, 1000)\n",
      "y_train.shape:  (3613,)\n",
      "X_test.shape:  (347, 1000)\n",
      "y_test.shape:  (347,)\n"
     ]
    }
   ],
   "source": [
    "X_train = TFIDF_vectorizer.transform(train_df.text)\n",
    "Y_train = train_df.emotion\n",
    "\n",
    "X_test = TFIDF_vectorizer.transform(test_df.text)\n",
    "Y_test = test_df.emotion\n",
    "\n",
    "print('X_train.shape: ', X_train.shape)\n",
    "print('y_train.shape: ', Y_train.shape)\n",
    "print('X_test.shape: ', X_test.shape)\n",
    "print('y_test.shape: ', Y_test.shape)"
   ]
  },
  {
   "cell_type": "code",
   "execution_count": 18,
   "id": "a399f955",
   "metadata": {},
   "outputs": [],
   "source": [
    "clf1 = MultinomialNB()\n",
    "clf1.fit(X_train, Y_train)\n",
    "\n",
    "Y_train_pred = clf1.predict(X_train)\n",
    "Y_test_pred = clf1.predict(X_test)"
   ]
  },
  {
   "cell_type": "code",
   "execution_count": 19,
   "id": "39324548",
   "metadata": {},
   "outputs": [
    {
     "name": "stdout",
     "output_type": "stream",
     "text": [
      "training accuracy: 0.86\n",
      "testing accuracy: 0.76\n"
     ]
    }
   ],
   "source": [
    "acc_train = accuracy_score(y_true=Y_train, y_pred=Y_train_pred)\n",
    "acc_test = accuracy_score(y_true=Y_test, y_pred=Y_test_pred)\n",
    "\n",
    "print('training accuracy: {}'.format(round(acc_train, 2)))\n",
    "print('testing accuracy: {}'.format(round(acc_test, 2)))"
   ]
  },
  {
   "cell_type": "code",
   "execution_count": 20,
   "id": "0214adba",
   "metadata": {},
   "outputs": [
    {
     "name": "stdout",
     "output_type": "stream",
     "text": [
      "              precision    recall  f1-score   support\n",
      "\n",
      "       anger       0.85      0.71      0.77        84\n",
      "        fear       0.66      0.92      0.77       110\n",
      "         joy       0.86      0.75      0.80        79\n",
      "     sadness       0.85      0.61      0.71        74\n",
      "\n",
      "    accuracy                           0.76       347\n",
      "   macro avg       0.80      0.75      0.76       347\n",
      "weighted avg       0.79      0.76      0.76       347\n",
      "\n"
     ]
    }
   ],
   "source": [
    "## precision, recall, f1-score,\n",
    "from sklearn.metrics import classification_report\n",
    "\n",
    "print(classification_report(y_true=Y_test, y_pred=Y_test_pred))"
   ]
  },
  {
   "cell_type": "code",
   "execution_count": 21,
   "id": "ddc588d5",
   "metadata": {},
   "outputs": [
    {
     "name": "stdout",
     "output_type": "stream",
     "text": [
      "[[ 60  18   3   3]\n",
      " [  5 101   2   2]\n",
      " [  3  14  59   3]\n",
      " [  3  21   5  45]]\n"
     ]
    }
   ],
   "source": [
    "## check by confusion matrix\n",
    "from sklearn.metrics import confusion_matrix\n",
    "\n",
    "cm = confusion_matrix(y_true=Y_test, y_pred=Y_test_pred) \n",
    "print(cm)"
   ]
  },
  {
   "cell_type": "code",
   "execution_count": 22,
   "id": "edbe31f5",
   "metadata": {},
   "outputs": [],
   "source": [
    "# Funciton for visualizing confusion_matrix\n",
    "import matplotlib.pyplot as plt\n",
    "import seaborn as sns\n",
    "import numpy as np\n",
    "import itertools\n",
    "\n",
    "def plot_confusion_matrix(cm, classes, title='Confusion matrix',\n",
    "                          cmap=sns.cubehelix_palette(as_cmap=True)):\n",
    "    \"\"\"\n",
    "    This function is modified from: \n",
    "    http://scikit-learn.org/stable/auto_examples/model_selection/plot_confusion_matrix.html\n",
    "    \"\"\"\n",
    "    classes.sort()\n",
    "    tick_marks = np.arange(len(classes))    \n",
    "    \n",
    "    fig, ax = plt.subplots(figsize=(5,5))\n",
    "    im = ax.imshow(cm, interpolation='nearest', cmap=cmap)\n",
    "    ax.figure.colorbar(im, ax=ax)\n",
    "    ax.set(xticks=np.arange(cm.shape[1]),\n",
    "           yticks=np.arange(cm.shape[0]),\n",
    "           xticklabels = classes,\n",
    "           yticklabels = classes,\n",
    "           title = title,\n",
    "           xlabel = 'True label',\n",
    "           ylabel = 'Predicted label')\n",
    "\n",
    "    fmt = 'd'\n",
    "    thresh = cm.max() / 2.\n",
    "    for i, j in itertools.product(range(cm.shape[0]), range(cm.shape[1])):\n",
    "        plt.text(j, i, format(cm[i, j], fmt), horizontalalignment=\"center\", color=\"white\" if cm[i, j] > thresh else \"black\")\n",
    "    ylim_top = len(classes) - 0.5\n",
    "    plt.ylim([ylim_top, -.5])\n",
    "    plt.tight_layout()\n",
    "    plt.show()"
   ]
  },
  {
   "cell_type": "code",
   "execution_count": 23,
   "id": "856b0166",
   "metadata": {},
   "outputs": [
    {
     "data": {
      "image/png": "[encoded data removed]",
      "text/plain": [
       "<Figure size 360x360 with 2 Axes>"
      ]
     },
     "metadata": {
      "needs_background": "light"
     },
     "output_type": "display_data"
    }
   ],
   "source": [
    "# plot your confusion matrix\n",
    "my_tags = ['anger', 'fear', 'joy', 'sadness']\n",
    "plot_confusion_matrix(cm, classes=my_tags, title='Confusion matrix')"
   ]
  },
  {
   "cell_type": "markdown",
   "id": "b4d23923",
   "metadata": {},
   "source": [
    "---\n",
    "### ** >>> Exercise 5 (Take home): **  \n",
    "\n",
    "How do the results from the Naive Bayes model and the Decision Tree model compare? How do you interpret these differences? Use the theoretical background covered in class to try and explain these differences."
   ]
  },
  {
   "cell_type": "code",
   "execution_count": null,
   "id": "6d8e607a",
   "metadata": {},
   "outputs": [],
   "source": []
  },
  {
   "cell_type": "markdown",
   "id": "9a0273f9",
   "metadata": {},
   "source": [
    "# Deep learning model build"
   ]
  },
  {
   "cell_type": "markdown",
   "id": "9b88e563",
   "metadata": {},
   "source": [
    "## prepare data\n",
    "I still use TFIDF feature"
   ]
  },
  {
   "cell_type": "code",
   "execution_count": 24,
   "id": "c4e5f37f",
   "metadata": {},
   "outputs": [
    {
     "name": "stdout",
     "output_type": "stream",
     "text": [
      "X_train.shape:  (3613, 1000)\n",
      "y_train.shape:  (3613,)\n",
      "X_test.shape:  (347, 1000)\n",
      "y_test.shape:  (347,)\n"
     ]
    }
   ],
   "source": [
    "import keras\n",
    "\n",
    "X_train = TFIDF_vectorizer.transform(train_df.text)\n",
    "Y_train = train_df.emotion\n",
    "\n",
    "X_test = TFIDF_vectorizer.transform(test_df.text)\n",
    "Y_test = test_df.emotion\n",
    "\n",
    "print('X_train.shape: ', X_train.shape)\n",
    "print('y_train.shape: ', Y_train.shape)\n",
    "print('X_test.shape: ', X_test.shape)\n",
    "print('y_test.shape: ', Y_test.shape)"
   ]
  },
  {
   "cell_type": "markdown",
   "id": "78e24866",
   "metadata": {},
   "source": [
    "## one hot encoding"
   ]
  },
  {
   "cell_type": "code",
   "execution_count": 25,
   "id": "4c19a76d",
   "metadata": {},
   "outputs": [
    {
     "name": "stdout",
     "output_type": "stream",
     "text": [
      "check label:  ['anger' 'fear' 'joy' 'sadness']\n",
      "\n",
      "## Before convert\n",
      "Y_train[0:4]:\n",
      " 1989       fear\n",
      "1468       fear\n",
      "264       anger\n",
      "3348    sadness\n",
      "Name: emotion, dtype: object\n",
      "\n",
      "Y_train.shape:  (3613,)\n",
      "Y_test.shape:  (347,)\n",
      "\n",
      "\n",
      "## After convert\n",
      "Y_train[0:4]:\n",
      " [[0. 1. 0. 0.]\n",
      " [0. 1. 0. 0.]\n",
      " [1. 0. 0. 0.]\n",
      " [0. 0. 0. 1.]]\n",
      "\n",
      "Y_train.shape:  (3613, 4)\n",
      "Y_test.shape:  (347, 4)\n"
     ]
    }
   ],
   "source": [
    "## deal with label (string -> one-hot)\n",
    "\n",
    "from sklearn.preprocessing import LabelEncoder\n",
    "\n",
    "label_encoder = LabelEncoder()\n",
    "label_encoder.fit(Y_train)\n",
    "print('check label: ', label_encoder.classes_)\n",
    "print('\\n## Before convert')\n",
    "print('Y_train[0:4]:\\n', Y_train[0:4])\n",
    "print('\\nY_train.shape: ', Y_train.shape)\n",
    "print('Y_test.shape: ', Y_test.shape)\n",
    "\n",
    "def label_encode(le, labels):\n",
    "    enc = le.transform(labels)\n",
    "    return keras.utils.to_categorical(enc)\n",
    "\n",
    "def label_decode(le, one_hot_label):\n",
    "    dec = np.argmax(one_hot_label, axis=1)\n",
    "    return le.inverse_transform(dec)\n",
    "\n",
    "Y_train = label_encode(label_encoder, Y_train)\n",
    "Y_test = label_encode(label_encoder, Y_test)\n",
    "\n",
    "print('\\n\\n## After convert')\n",
    "print('Y_train[0:4]:\\n', Y_train[0:4])\n",
    "print('\\nY_train.shape: ', Y_train.shape)\n",
    "print('Y_test.shape: ', Y_test.shape)"
   ]
  },
  {
   "cell_type": "markdown",
   "id": "03b5a380",
   "metadata": {},
   "source": [
    "## build model"
   ]
  },
  {
   "cell_type": "code",
   "execution_count": 26,
   "id": "ddf971d8",
   "metadata": {},
   "outputs": [
    {
     "name": "stdout",
     "output_type": "stream",
     "text": [
      "(3613, 1000)\n",
      "(3613, 4)\n",
      "(347, 1000)\n",
      "(347, 4)\n"
     ]
    }
   ],
   "source": [
    "# I/O check\n",
    "print(X_train.shape)\n",
    "print(Y_train.shape)\n",
    "print(X_test.shape)\n",
    "print(Y_test.shape)"
   ]
  },
  {
   "cell_type": "code",
   "execution_count": 27,
   "id": "27fd6c63",
   "metadata": {},
   "outputs": [
    {
     "name": "stdout",
     "output_type": "stream",
     "text": [
      "Model: \"model\"\n",
      "_________________________________________________________________\n",
      " Layer (type)                Output Shape              Param #   \n",
      "=================================================================\n",
      " input_1 (InputLayer)        [(None, 1000)]            0         \n",
      "                                                                 \n",
      " dense (Dense)               (None, 64)                64064     \n",
      "                                                                 \n",
      " re_lu (ReLU)                (None, 64)                0         \n",
      "                                                                 \n",
      " dense_1 (Dense)             (None, 64)                4160      \n",
      "                                                                 \n",
      " re_lu_1 (ReLU)              (None, 64)                0         \n",
      "                                                                 \n",
      " dense_2 (Dense)             (None, 4)                 260       \n",
      "                                                                 \n",
      " softmax (Softmax)           (None, 4)                 0         \n",
      "                                                                 \n",
      "=================================================================\n",
      "Total params: 68,484\n",
      "Trainable params: 68,484\n",
      "Non-trainable params: 0\n",
      "_________________________________________________________________\n"
     ]
    }
   ],
   "source": [
    "from keras.models import Model\n",
    "from keras.layers import Input, Dense\n",
    "from keras.layers import ReLU, Softmax\n",
    "\n",
    "# input layer\n",
    "model_input = Input(shape=(1000, ))\n",
    "X = model_input\n",
    "\n",
    "# 1st hidden layer\n",
    "X_W1 = Dense(units=64)(X)  # 64\n",
    "H1 = ReLU()(X_W1)\n",
    "\n",
    "# 2nd hidden layer\n",
    "H1_W2 = Dense(units=64)(H1)  # 64\n",
    "H2 = ReLU()(H1_W2)\n",
    "\n",
    "# output layer\n",
    "H2_W3 = Dense(units=4)(H2)\n",
    "H3 = Softmax()(H2_W3)\n",
    "\n",
    "model_output = H3\n",
    "\n",
    "# create model\n",
    "model = Model(inputs=[model_input], outputs=[model_output])\n",
    "\n",
    "# loss function & optimizer\n",
    "model.compile(optimizer='adam',\n",
    "              loss='categorical_crossentropy',\n",
    "              metrics=['accuracy'])\n",
    "\n",
    "# show model construction\n",
    "model.summary()"
   ]
  },
  {
   "cell_type": "code",
   "execution_count": 28,
   "id": "4c3b8e58",
   "metadata": {},
   "outputs": [
    {
     "name": "stdout",
     "output_type": "stream",
     "text": [
      "<class 'scipy.sparse.csr.csr_matrix'>\n"
     ]
    }
   ],
   "source": [
    "print(type(X_train))\n"
   ]
  },
  {
   "cell_type": "markdown",
   "id": "5adc4b41",
   "metadata": {},
   "source": [
    "## train"
   ]
  },
  {
   "cell_type": "code",
   "execution_count": 29,
   "id": "6cb2910c",
   "metadata": {},
   "outputs": [],
   "source": [
    "# need to change to sparse tensor, so it can be model's input\n",
    "\n",
    "import tensorflow as tf\n",
    "\n",
    "def convert_sparse_matrix_to_sparse_tensor(X):\n",
    "    coo = X.tocoo()\n",
    "    indices = np.mat([coo.row, coo.col]).transpose()\n",
    "    return tf.sparse.reorder(tf.SparseTensor(indices, coo.data, coo.shape))\n",
    "\n",
    "X_train_enc = convert_sparse_matrix_to_sparse_tensor(X_train)\n",
    "X_test_enc = convert_sparse_matrix_to_sparse_tensor(X_test)"
   ]
  },
  {
   "cell_type": "code",
   "execution_count": 30,
   "id": "536e528e",
   "metadata": {},
   "outputs": [
    {
     "name": "stdout",
     "output_type": "stream",
     "text": [
      "Epoch 1/25\n"
     ]
    },
    {
     "name": "stderr",
     "output_type": "stream",
     "text": [
      "C:\\Users\\user\\anaconda3\\lib\\site-packages\\tensorflow\\python\\framework\\indexed_slices.py:444: UserWarning: Converting sparse IndexedSlices(IndexedSlices(indices=Tensor(\"gradient_tape/model/dense/embedding_lookup_sparse/Reshape_1:0\", shape=(None,), dtype=int32), values=Tensor(\"gradient_tape/model/dense/embedding_lookup_sparse/Reshape:0\", shape=(None, 64), dtype=float32), dense_shape=Tensor(\"gradient_tape/model/dense/embedding_lookup_sparse/Cast:0\", shape=(2,), dtype=int32))) to a dense Tensor of unknown shape. This may consume a large amount of memory.\n",
      "  warnings.warn(\n"
     ]
    },
    {
     "name": "stdout",
     "output_type": "stream",
     "text": [
      "113/113 [==============================] - 3s 20ms/step - loss: 1.3220 - accuracy: 0.3723 - val_loss: 1.2052 - val_accuracy: 0.5994\n",
      "Epoch 2/25\n",
      "113/113 [==============================] - 0s 2ms/step - loss: 0.7877 - accuracy: 0.7786 - val_loss: 0.6911 - val_accuracy: 0.7810\n",
      "Epoch 3/25\n",
      "113/113 [==============================] - 0s 2ms/step - loss: 0.3593 - accuracy: 0.8929 - val_loss: 0.6253 - val_accuracy: 0.7925\n",
      "Epoch 4/25\n",
      "113/113 [==============================] - 0s 3ms/step - loss: 0.2336 - accuracy: 0.9261 - val_loss: 0.6624 - val_accuracy: 0.7839\n",
      "Epoch 5/25\n",
      "113/113 [==============================] - 0s 4ms/step - loss: 0.1814 - accuracy: 0.9369 - val_loss: 0.6959 - val_accuracy: 0.7723\n",
      "Epoch 6/25\n",
      "113/113 [==============================] - 0s 4ms/step - loss: 0.1408 - accuracy: 0.9546 - val_loss: 0.7513 - val_accuracy: 0.7752\n",
      "Epoch 7/25\n",
      "113/113 [==============================] - 0s 4ms/step - loss: 0.1142 - accuracy: 0.9651 - val_loss: 0.7986 - val_accuracy: 0.7637\n",
      "Epoch 8/25\n",
      "113/113 [==============================] - 0s 4ms/step - loss: 0.0963 - accuracy: 0.9684 - val_loss: 0.8722 - val_accuracy: 0.7781\n",
      "Epoch 9/25\n",
      "113/113 [==============================] - 0s 4ms/step - loss: 0.0841 - accuracy: 0.9707 - val_loss: 0.9006 - val_accuracy: 0.7723\n",
      "Epoch 10/25\n",
      "113/113 [==============================] - 0s 4ms/step - loss: 0.0746 - accuracy: 0.9732 - val_loss: 0.9690 - val_accuracy: 0.7579\n",
      "Epoch 11/25\n",
      "113/113 [==============================] - 0s 3ms/step - loss: 0.0668 - accuracy: 0.9779 - val_loss: 0.9891 - val_accuracy: 0.7695\n",
      "Epoch 12/25\n",
      "113/113 [==============================] - 0s 4ms/step - loss: 0.0628 - accuracy: 0.9768 - val_loss: 1.0429 - val_accuracy: 0.7695\n",
      "Epoch 13/25\n",
      "113/113 [==============================] - 0s 3ms/step - loss: 0.0606 - accuracy: 0.9773 - val_loss: 1.0513 - val_accuracy: 0.7752\n",
      "Epoch 14/25\n",
      "113/113 [==============================] - 0s 4ms/step - loss: 0.0564 - accuracy: 0.9770 - val_loss: 1.1005 - val_accuracy: 0.7752\n",
      "Epoch 15/25\n",
      "113/113 [==============================] - 0s 3ms/step - loss: 0.0528 - accuracy: 0.9798 - val_loss: 1.1146 - val_accuracy: 0.7695\n",
      "Epoch 16/25\n",
      "113/113 [==============================] - 0s 3ms/step - loss: 0.0497 - accuracy: 0.9776 - val_loss: 1.1588 - val_accuracy: 0.7608\n",
      "Epoch 17/25\n",
      "113/113 [==============================] - 0s 3ms/step - loss: 0.0520 - accuracy: 0.9792 - val_loss: 1.1833 - val_accuracy: 0.7666\n",
      "Epoch 18/25\n",
      "113/113 [==============================] - 0s 4ms/step - loss: 0.0485 - accuracy: 0.9803 - val_loss: 1.2259 - val_accuracy: 0.7608\n",
      "Epoch 19/25\n",
      "113/113 [==============================] - 0s 4ms/step - loss: 0.0483 - accuracy: 0.9790 - val_loss: 1.2096 - val_accuracy: 0.7695\n",
      "Epoch 20/25\n",
      "113/113 [==============================] - 0s 4ms/step - loss: 0.0444 - accuracy: 0.9803 - val_loss: 1.2636 - val_accuracy: 0.7608\n",
      "Epoch 21/25\n",
      "113/113 [==============================] - 0s 3ms/step - loss: 0.0449 - accuracy: 0.9795 - val_loss: 1.2385 - val_accuracy: 0.7637\n",
      "Epoch 22/25\n",
      "113/113 [==============================] - 0s 3ms/step - loss: 0.0443 - accuracy: 0.9801 - val_loss: 1.2795 - val_accuracy: 0.7522\n",
      "Epoch 23/25\n",
      "113/113 [==============================] - 0s 4ms/step - loss: 0.0455 - accuracy: 0.9803 - val_loss: 1.2882 - val_accuracy: 0.7579\n",
      "Epoch 24/25\n",
      "113/113 [==============================] - 0s 4ms/step - loss: 0.0417 - accuracy: 0.9809 - val_loss: 1.2970 - val_accuracy: 0.7666\n",
      "Epoch 25/25\n",
      "113/113 [==============================] - 0s 4ms/step - loss: 0.0407 - accuracy: 0.9803 - val_loss: 1.3187 - val_accuracy: 0.7608\n",
      "training finish\n"
     ]
    }
   ],
   "source": [
    "from keras.callbacks import CSVLogger\n",
    "\n",
    "csv_logger = CSVLogger('logs/training_log.csv')\n",
    "\n",
    "# training setting\n",
    "epochs = 25\n",
    "batch_size = 32\n",
    "\n",
    "# training!\n",
    "history = model.fit(X_train_enc, Y_train, \n",
    "                    epochs=epochs, \n",
    "                    batch_size=batch_size,\n",
    "                    callbacks=[csv_logger],\n",
    "                    validation_data = (X_test_enc, Y_test))\n",
    "print('training finish')"
   ]
  },
  {
   "cell_type": "markdown",
   "id": "a229ee96",
   "metadata": {},
   "source": [
    "## predict"
   ]
  },
  {
   "cell_type": "code",
   "execution_count": 31,
   "id": "c186ba25",
   "metadata": {},
   "outputs": [
    {
     "name": "stdout",
     "output_type": "stream",
     "text": [
      "3/3 [==============================] - 0s 2ms/step\n"
     ]
    },
    {
     "data": {
      "text/plain": [
       "array(['fear', 'sadness', 'anger', 'sadness', 'anger'], dtype=object)"
      ]
     },
     "execution_count": 31,
     "metadata": {},
     "output_type": "execute_result"
    }
   ],
   "source": [
    "## predict\n",
    "pred_result = model.predict(X_test_enc, batch_size=128)\n",
    "pred_result = label_decode(label_encoder, pred_result)\n",
    "pred_result[:5]"
   ]
  },
  {
   "cell_type": "code",
   "execution_count": 32,
   "id": "90acaf28",
   "metadata": {},
   "outputs": [
    {
     "name": "stdout",
     "output_type": "stream",
     "text": [
      "testing accuracy: 0.76\n"
     ]
    }
   ],
   "source": [
    "from sklearn.metrics import accuracy_score\n",
    "\n",
    "print('testing accuracy: {}'.format(round(accuracy_score(label_decode(label_encoder, Y_test), pred_result), 2)))"
   ]
  },
  {
   "cell_type": "code",
   "execution_count": 33,
   "id": "ad606df1",
   "metadata": {},
   "outputs": [
    {
     "data": {
      "text/html": [
       "<div>\n",
       "<style scoped>\n",
       "    .dataframe tbody tr th:only-of-type {\n",
       "        vertical-align: middle;\n",
       "    }\n",
       "\n",
       "    .dataframe tbody tr th {\n",
       "        vertical-align: top;\n",
       "    }\n",
       "\n",
       "    .dataframe thead th {\n",
       "        text-align: right;\n",
       "    }\n",
       "</style>\n",
       "<table border=\"1\" class=\"dataframe\">\n",
       "  <thead>\n",
       "    <tr style=\"text-align: right;\">\n",
       "      <th></th>\n",
       "      <th>epoch</th>\n",
       "      <th>accuracy</th>\n",
       "      <th>loss</th>\n",
       "      <th>val_accuracy</th>\n",
       "      <th>val_loss</th>\n",
       "    </tr>\n",
       "  </thead>\n",
       "  <tbody>\n",
       "    <tr>\n",
       "      <th>0</th>\n",
       "      <td>0</td>\n",
       "      <td>0.372267</td>\n",
       "      <td>1.322043</td>\n",
       "      <td>0.599424</td>\n",
       "      <td>1.205162</td>\n",
       "    </tr>\n",
       "    <tr>\n",
       "      <th>1</th>\n",
       "      <td>1</td>\n",
       "      <td>0.778577</td>\n",
       "      <td>0.787659</td>\n",
       "      <td>0.780980</td>\n",
       "      <td>0.691139</td>\n",
       "    </tr>\n",
       "    <tr>\n",
       "      <th>2</th>\n",
       "      <td>2</td>\n",
       "      <td>0.892887</td>\n",
       "      <td>0.359333</td>\n",
       "      <td>0.792507</td>\n",
       "      <td>0.625265</td>\n",
       "    </tr>\n",
       "    <tr>\n",
       "      <th>3</th>\n",
       "      <td>3</td>\n",
       "      <td>0.926100</td>\n",
       "      <td>0.233613</td>\n",
       "      <td>0.783862</td>\n",
       "      <td>0.662358</td>\n",
       "    </tr>\n",
       "    <tr>\n",
       "      <th>4</th>\n",
       "      <td>4</td>\n",
       "      <td>0.936895</td>\n",
       "      <td>0.181416</td>\n",
       "      <td>0.772334</td>\n",
       "      <td>0.695947</td>\n",
       "    </tr>\n",
       "    <tr>\n",
       "      <th>5</th>\n",
       "      <td>5</td>\n",
       "      <td>0.954608</td>\n",
       "      <td>0.140811</td>\n",
       "      <td>0.775216</td>\n",
       "      <td>0.751346</td>\n",
       "    </tr>\n",
       "    <tr>\n",
       "      <th>6</th>\n",
       "      <td>6</td>\n",
       "      <td>0.965126</td>\n",
       "      <td>0.114193</td>\n",
       "      <td>0.763689</td>\n",
       "      <td>0.798569</td>\n",
       "    </tr>\n",
       "    <tr>\n",
       "      <th>7</th>\n",
       "      <td>7</td>\n",
       "      <td>0.968447</td>\n",
       "      <td>0.096266</td>\n",
       "      <td>0.778098</td>\n",
       "      <td>0.872235</td>\n",
       "    </tr>\n",
       "    <tr>\n",
       "      <th>8</th>\n",
       "      <td>8</td>\n",
       "      <td>0.970662</td>\n",
       "      <td>0.084100</td>\n",
       "      <td>0.772334</td>\n",
       "      <td>0.900600</td>\n",
       "    </tr>\n",
       "    <tr>\n",
       "      <th>9</th>\n",
       "      <td>9</td>\n",
       "      <td>0.973153</td>\n",
       "      <td>0.074604</td>\n",
       "      <td>0.757925</td>\n",
       "      <td>0.969029</td>\n",
       "    </tr>\n",
       "    <tr>\n",
       "      <th>10</th>\n",
       "      <td>10</td>\n",
       "      <td>0.977858</td>\n",
       "      <td>0.066799</td>\n",
       "      <td>0.769452</td>\n",
       "      <td>0.989067</td>\n",
       "    </tr>\n",
       "    <tr>\n",
       "      <th>11</th>\n",
       "      <td>11</td>\n",
       "      <td>0.976751</td>\n",
       "      <td>0.062755</td>\n",
       "      <td>0.769452</td>\n",
       "      <td>1.042913</td>\n",
       "    </tr>\n",
       "    <tr>\n",
       "      <th>12</th>\n",
       "      <td>12</td>\n",
       "      <td>0.977304</td>\n",
       "      <td>0.060626</td>\n",
       "      <td>0.775216</td>\n",
       "      <td>1.051313</td>\n",
       "    </tr>\n",
       "    <tr>\n",
       "      <th>13</th>\n",
       "      <td>13</td>\n",
       "      <td>0.977027</td>\n",
       "      <td>0.056389</td>\n",
       "      <td>0.775216</td>\n",
       "      <td>1.100450</td>\n",
       "    </tr>\n",
       "    <tr>\n",
       "      <th>14</th>\n",
       "      <td>14</td>\n",
       "      <td>0.979795</td>\n",
       "      <td>0.052824</td>\n",
       "      <td>0.769452</td>\n",
       "      <td>1.114586</td>\n",
       "    </tr>\n",
       "    <tr>\n",
       "      <th>15</th>\n",
       "      <td>15</td>\n",
       "      <td>0.977581</td>\n",
       "      <td>0.049736</td>\n",
       "      <td>0.760807</td>\n",
       "      <td>1.158752</td>\n",
       "    </tr>\n",
       "    <tr>\n",
       "      <th>16</th>\n",
       "      <td>16</td>\n",
       "      <td>0.979242</td>\n",
       "      <td>0.052009</td>\n",
       "      <td>0.766571</td>\n",
       "      <td>1.183262</td>\n",
       "    </tr>\n",
       "    <tr>\n",
       "      <th>17</th>\n",
       "      <td>17</td>\n",
       "      <td>0.980349</td>\n",
       "      <td>0.048544</td>\n",
       "      <td>0.760807</td>\n",
       "      <td>1.225897</td>\n",
       "    </tr>\n",
       "    <tr>\n",
       "      <th>18</th>\n",
       "      <td>18</td>\n",
       "      <td>0.978965</td>\n",
       "      <td>0.048296</td>\n",
       "      <td>0.769452</td>\n",
       "      <td>1.209556</td>\n",
       "    </tr>\n",
       "    <tr>\n",
       "      <th>19</th>\n",
       "      <td>19</td>\n",
       "      <td>0.980349</td>\n",
       "      <td>0.044441</td>\n",
       "      <td>0.760807</td>\n",
       "      <td>1.263563</td>\n",
       "    </tr>\n",
       "    <tr>\n",
       "      <th>20</th>\n",
       "      <td>20</td>\n",
       "      <td>0.979518</td>\n",
       "      <td>0.044905</td>\n",
       "      <td>0.763689</td>\n",
       "      <td>1.238518</td>\n",
       "    </tr>\n",
       "    <tr>\n",
       "      <th>21</th>\n",
       "      <td>21</td>\n",
       "      <td>0.980072</td>\n",
       "      <td>0.044340</td>\n",
       "      <td>0.752161</td>\n",
       "      <td>1.279460</td>\n",
       "    </tr>\n",
       "    <tr>\n",
       "      <th>22</th>\n",
       "      <td>22</td>\n",
       "      <td>0.980349</td>\n",
       "      <td>0.045538</td>\n",
       "      <td>0.757925</td>\n",
       "      <td>1.288157</td>\n",
       "    </tr>\n",
       "    <tr>\n",
       "      <th>23</th>\n",
       "      <td>23</td>\n",
       "      <td>0.980902</td>\n",
       "      <td>0.041736</td>\n",
       "      <td>0.766571</td>\n",
       "      <td>1.297003</td>\n",
       "    </tr>\n",
       "    <tr>\n",
       "      <th>24</th>\n",
       "      <td>24</td>\n",
       "      <td>0.980349</td>\n",
       "      <td>0.040651</td>\n",
       "      <td>0.760807</td>\n",
       "      <td>1.318709</td>\n",
       "    </tr>\n",
       "  </tbody>\n",
       "</table>\n",
       "</div>"
      ],
      "text/plain": [
       "    epoch  accuracy      loss  val_accuracy  val_loss\n",
       "0       0  0.372267  1.322043      0.599424  1.205162\n",
       "1       1  0.778577  0.787659      0.780980  0.691139\n",
       "2       2  0.892887  0.359333      0.792507  0.625265\n",
       "3       3  0.926100  0.233613      0.783862  0.662358\n",
       "4       4  0.936895  0.181416      0.772334  0.695947\n",
       "5       5  0.954608  0.140811      0.775216  0.751346\n",
       "6       6  0.965126  0.114193      0.763689  0.798569\n",
       "7       7  0.968447  0.096266      0.778098  0.872235\n",
       "8       8  0.970662  0.084100      0.772334  0.900600\n",
       "9       9  0.973153  0.074604      0.757925  0.969029\n",
       "10     10  0.977858  0.066799      0.769452  0.989067\n",
       "11     11  0.976751  0.062755      0.769452  1.042913\n",
       "12     12  0.977304  0.060626      0.775216  1.051313\n",
       "13     13  0.977027  0.056389      0.775216  1.100450\n",
       "14     14  0.979795  0.052824      0.769452  1.114586\n",
       "15     15  0.977581  0.049736      0.760807  1.158752\n",
       "16     16  0.979242  0.052009      0.766571  1.183262\n",
       "17     17  0.980349  0.048544      0.760807  1.225897\n",
       "18     18  0.978965  0.048296      0.769452  1.209556\n",
       "19     19  0.980349  0.044441      0.760807  1.263563\n",
       "20     20  0.979518  0.044905      0.763689  1.238518\n",
       "21     21  0.980072  0.044340      0.752161  1.279460\n",
       "22     22  0.980349  0.045538      0.757925  1.288157\n",
       "23     23  0.980902  0.041736      0.766571  1.297003\n",
       "24     24  0.980349  0.040651      0.760807  1.318709"
      ]
     },
     "execution_count": 33,
     "metadata": {},
     "output_type": "execute_result"
    }
   ],
   "source": [
    "#Let's take a look at the training log\n",
    "training_log = pd.DataFrame()\n",
    "training_log = pd.read_csv(\"logs/training_log.csv\")\n",
    "training_log"
   ]
  },
  {
   "cell_type": "markdown",
   "id": "60423673",
   "metadata": {},
   "source": [
    "---\n",
    "### ** >>> Exercise 6 (Take home): **  \n",
    "\n",
    "Plot the Training and Validation Accuracy and Loss (different plots), just like the images below.(Note: the pictures below are an example from a different model). How to interpret the graphs you got? How are they related to the concept of overfitting/underfitting covered in class?\n",
    "<table><tr>\n",
    "    <td><img src=\"pics/pic3.png\" style=\"width: 300px;\"/> </td>\n",
    "    <td><img src=\"pics/pic4.png\" style=\"width: 300px;\"/> </td>\n",
    "</tr></table>"
   ]
  },
  {
   "cell_type": "code",
   "execution_count": 34,
   "id": "186fb42f",
   "metadata": {},
   "outputs": [
    {
     "data": {
      "image/png": "[encoded data removed]",
      "text/plain": [
       "<Figure size 1152x360 with 2 Axes>"
      ]
     },
     "metadata": {
      "needs_background": "light"
     },
     "output_type": "display_data"
    }
   ],
   "source": [
    "import matplotlib.pyplot as plt\n",
    "\n",
    "plt.figure(figsize=(16, 5))\n",
    "fig = plt.subplot(1, 2, 1)\n",
    "\n",
    "fig.plot(training_log.epoch, training_log.accuracy, label='Train accuracy')\n",
    "fig.plot(training_log.epoch, training_log.val_accuracy, label='Val accuracy')\n",
    "fig.set_xlabel('Epoches')\n",
    "fig.set_ylabel('Accuracy')\n",
    "fig.set_title('Training Accuracy per epoch')\n",
    "fig.legend()\n",
    "\n",
    "fig = plt.subplot(1, 2, 2)\n",
    "\n",
    "fig.plot(training_log.epoch, training_log.loss, label='Train loss')\n",
    "fig.plot(training_log.epoch, training_log.val_loss, label='Val loss')\n",
    "fig.set_xlabel('Epoches')\n",
    "fig.set_ylabel('Loss')\n",
    "fig.set_title('Training Loss per epoch')\n",
    "fig.legend()\n",
    "\n",
    "plt.show()"
   ]
  },
  {
   "cell_type": "markdown",
   "id": "88c7f141",
   "metadata": {},
   "source": [
    "Discussion:\n"
   ]
  },
  {
   "cell_type": "markdown",
   "id": "99ab5860",
   "metadata": {},
   "source": [
    "# W2V"
   ]
  },
  {
   "cell_type": "code",
   "execution_count": 35,
   "id": "0f9b3e55",
   "metadata": {},
   "outputs": [
    {
     "data": {
      "text/html": [
       "<div>\n",
       "<style scoped>\n",
       "    .dataframe tbody tr th:only-of-type {\n",
       "        vertical-align: middle;\n",
       "    }\n",
       "\n",
       "    .dataframe tbody tr th {\n",
       "        vertical-align: top;\n",
       "    }\n",
       "\n",
       "    .dataframe thead th {\n",
       "        text-align: right;\n",
       "    }\n",
       "</style>\n",
       "<table border=\"1\" class=\"dataframe\">\n",
       "  <thead>\n",
       "    <tr style=\"text-align: right;\">\n",
       "      <th></th>\n",
       "      <th>id</th>\n",
       "      <th>text</th>\n",
       "      <th>text_tokenized</th>\n",
       "    </tr>\n",
       "  </thead>\n",
       "  <tbody>\n",
       "    <tr>\n",
       "      <th>1989</th>\n",
       "      <td>21132</td>\n",
       "      <td>When you make a great tasting shake and no wor...</td>\n",
       "      <td>[When, you, make, a, great, tasting, shake, an...</td>\n",
       "    </tr>\n",
       "    <tr>\n",
       "      <th>1468</th>\n",
       "      <td>20611</td>\n",
       "      <td>@bdp514am We are a tired and restless communit...</td>\n",
       "      <td>[@, bdp514am, We, are, a, tired, and, restless...</td>\n",
       "    </tr>\n",
       "    <tr>\n",
       "      <th>264</th>\n",
       "      <td>10264</td>\n",
       "      <td>@xandraaa5 @amayaallyn6 shut up hashtags are c...</td>\n",
       "      <td>[@, xandraaa5, @, amayaallyn6, shut, up, hasht...</td>\n",
       "    </tr>\n",
       "    <tr>\n",
       "      <th>3348</th>\n",
       "      <td>40521</td>\n",
       "      <td>@duncantrussell does Remo Williams ever actual...</td>\n",
       "      <td>[@, duncantrussell, does, Remo, Williams, ever...</td>\n",
       "    </tr>\n",
       "    <tr>\n",
       "      <th>924</th>\n",
       "      <td>20067</td>\n",
       "      <td>I have to finally tell my therapist about my s...</td>\n",
       "      <td>[I, have, to, finally, tell, my, therapist, ab...</td>\n",
       "    </tr>\n",
       "  </tbody>\n",
       "</table>\n",
       "</div>"
      ],
      "text/plain": [
       "         id                                               text  \\\n",
       "1989  21132  When you make a great tasting shake and no wor...   \n",
       "1468  20611  @bdp514am We are a tired and restless communit...   \n",
       "264   10264  @xandraaa5 @amayaallyn6 shut up hashtags are c...   \n",
       "3348  40521  @duncantrussell does Remo Williams ever actual...   \n",
       "924   20067  I have to finally tell my therapist about my s...   \n",
       "\n",
       "                                         text_tokenized  \n",
       "1989  [When, you, make, a, great, tasting, shake, an...  \n",
       "1468  [@, bdp514am, We, are, a, tired, and, restless...  \n",
       "264   [@, xandraaa5, @, amayaallyn6, shut, up, hasht...  \n",
       "3348  [@, duncantrussell, does, Remo, Williams, ever...  \n",
       "924   [I, have, to, finally, tell, my, therapist, ab...  "
      ]
     },
     "execution_count": 35,
     "metadata": {},
     "output_type": "execute_result"
    }
   ],
   "source": [
    "## check library\n",
    "import gensim\n",
    "\n",
    "## the input type\n",
    "train_df['text_tokenized'] = train_df['text'].apply(lambda x: nltk.word_tokenize(x))\n",
    "train_df[['id', 'text', 'text_tokenized']].head()"
   ]
  },
  {
   "cell_type": "code",
   "execution_count": 38,
   "id": "fdef4622",
   "metadata": {},
   "outputs": [
    {
     "data": {
      "text/plain": [
       "array([list(['When', 'you', 'make', 'a', 'great', 'tasting', 'shake', 'and', 'no', 'words', 'can', 'describe', 'it', '!', '😃👌🏻', '#', 'herbalifenutrition', '#', 'tastesogood', '#', 'nowords']),\n",
       "       list(['@', 'bdp514am', 'We', 'are', 'a', 'tired', 'and', 'restless', 'community', '.', 'We', 'are', 'human', 'and', 'tired', 'of', 'asking', 'for', 'change', 'only', 'to', 'be', 'ignored', '.']),\n",
       "       list(['@', 'xandraaa5', '@', 'amayaallyn6', 'shut', 'up', 'hashtags', 'are', 'cool', '#', 'offended'])],\n",
       "      dtype=object)"
      ]
     },
     "execution_count": 38,
     "metadata": {},
     "output_type": "execute_result"
    }
   ],
   "source": [
    "## create the training corpus\n",
    "training_corpus = train_df['text_tokenized'].values\n",
    "training_corpus[:3]"
   ]
  },
  {
   "cell_type": "markdown",
   "id": "935a8d62",
   "metadata": {},
   "source": [
    "use pretrained model GoogleNews-vectors-negative300"
   ]
  },
  {
   "cell_type": "code",
   "execution_count": 39,
   "id": "e77e0099",
   "metadata": {},
   "outputs": [
    {
     "name": "stdout",
     "output_type": "stream",
     "text": [
      "load ok\n"
     ]
    },
    {
     "data": {
      "text/plain": [
       "[('glad', 0.7408890724182129),\n",
       " ('pleased', 0.6632170677185059),\n",
       " ('ecstatic', 0.6626912355422974),\n",
       " ('overjoyed', 0.6599286794662476),\n",
       " ('thrilled', 0.6514049172401428),\n",
       " ('satisfied', 0.6437949538230896),\n",
       " ('proud', 0.636042058467865),\n",
       " ('delighted', 0.6272379159927368),\n",
       " ('disappointed', 0.6269949674606323),\n",
       " ('excited', 0.6247665882110596)]"
      ]
     },
     "execution_count": 39,
     "metadata": {},
     "output_type": "execute_result"
    }
   ],
   "source": [
    "from gensim.models import KeyedVectors\n",
    "\n",
    "## Note: this model is very huge, this will take some time ...\n",
    "model_path = \"GoogleNews/GoogleNews-vectors-negative300.bin.gz\"\n",
    "w2v_google_model = KeyedVectors.load_word2vec_format(model_path, binary=True)\n",
    "print('load ok')\n",
    "\n",
    "w2v_google_model.most_similar('happy', topn=10)"
   ]
  },
  {
   "cell_type": "markdown",
   "id": "d0266a19",
   "metadata": {},
   "source": [
    "---\n",
    "### ** >>> Exercise 7 (Take home): **  \n",
    "\n",
    "Now, we have the word vectors, but our input data is a sequence of words (or say sentence). \n",
    "How can we utilize these \"word\" vectors to represent the sentence data and train our model?"
   ]
  },
  {
   "cell_type": "code",
   "execution_count": null,
   "id": "10c3da1c",
   "metadata": {},
   "outputs": [],
   "source": []
  },
  {
   "cell_type": "markdown",
   "id": "ce95a1d5",
   "metadata": {},
   "source": [
    "---\n",
    "### ** >>> Exercise 8 (Take home): **  \n",
    "\n",
    "Generate a t-SNE visualization to show the 15 words most related to the words \"angry\", \"happy\", \"sad\", \"fear\" (60 words total)."
   ]
  },
  {
   "cell_type": "code",
   "execution_count": 45,
   "id": "e3ea9dc9",
   "metadata": {},
   "outputs": [
    {
     "name": "stdout",
     "output_type": "stream",
     "text": [
      "\n",
      "target words: \n",
      "['irate', 'enraged', 'indignant', 'incensed', 'annoyed', 'agitated', 'frustrated', 'furious', 'unhappy', 'outraged', 'livid', 'irritated', 'exasperated', 'angrier', 'Angry', 'glad', 'pleased', 'ecstatic', 'overjoyed', 'thrilled', 'satisfied', 'proud', 'delighted', 'disappointed', 'excited', 'happier', 'Said_Hirschbeck', 'elated', 'thankful', 'unhappy', 'saddening', 'Sad', 'saddened', 'heartbreaking', 'disheartening', 'Meny_Friedman', 'parishioner_Pat_Patello', 'saddens_me', 'distressing', 'reminders_bobbing', 'Turkoman_Shiites', 'saddest', 'unfortunate', 'sorry', 'bittersweet', 'fearful', 'fears', 'Fear', 'fearing', 'worry', 'dread', 'feared', 'anxiety', 'apprehension', 'afraid', 'worries', 'concern', 'distrust', 'worried', 'Fearful']\n",
      "\n",
      "color list:\n",
      "['red', 'red', 'red', 'red', 'red', 'red', 'red', 'red', 'red', 'red', 'red', 'red', 'red', 'red', 'red', 'yellow', 'yellow', 'yellow', 'yellow', 'yellow', 'yellow', 'yellow', 'yellow', 'yellow', 'yellow', 'yellow', 'yellow', 'yellow', 'yellow', 'yellow', 'gray', 'gray', 'gray', 'gray', 'gray', 'gray', 'gray', 'gray', 'gray', 'gray', 'gray', 'gray', 'gray', 'gray', 'gray', 'black', 'black', 'black', 'black', 'black', 'black', 'black', 'black', 'black', 'black', 'black', 'black', 'black', 'black', 'black']\n"
     ]
    }
   ],
   "source": [
    "word_list = ['angry', 'happy', 'sad', 'fear']\n",
    "\n",
    "topn = 15\n",
    "angry_words = [word_ for word_, sim_ in w2v_google_model.most_similar('angry', topn=topn)]\n",
    "happy_words = [word_ for word_, sim_ in w2v_google_model.most_similar('happy', topn=topn)]        \n",
    "sad_words = [word_ for word_, sim_ in w2v_google_model.most_similar('sad', topn=topn)]        \n",
    "fear_words = [word_ for word_, sim_ in w2v_google_model.most_similar('fear', topn=topn)]        \n",
    "\n",
    "target_words = angry_words + happy_words + sad_words + fear_words\n",
    "print('\\ntarget words: ')\n",
    "print(target_words)\n",
    "\n",
    "print('\\ncolor list:')\n",
    "cn = topn\n",
    "color = ['red'] * cn + ['yellow'] * cn + ['gray'] * cn + ['black'] * cn\n",
    "print(color)"
   ]
  },
  {
   "cell_type": "code",
   "execution_count": 46,
   "id": "11033a1d",
   "metadata": {
    "scrolled": false
   },
   "outputs": [
    {
     "name": "stderr",
     "output_type": "stream",
     "text": [
      "C:\\Users\\user\\anaconda3\\lib\\site-packages\\sklearn\\manifold\\_t_sne.py:780: FutureWarning: The default initialization in TSNE will change from 'random' to 'pca' in 1.2.\n",
      "  warnings.warn(\n",
      "C:\\Users\\user\\anaconda3\\lib\\site-packages\\sklearn\\manifold\\_t_sne.py:790: FutureWarning: The default learning rate in TSNE will change from 200.0 to 'auto' in 1.2.\n",
      "  warnings.warn(\n",
      "C:\\Users\\user\\anaconda3\\lib\\site-packages\\sklearn\\manifold\\_t_sne.py:819: FutureWarning: 'square_distances' has been introduced in 0.24 to help phase out legacy squaring behavior. The 'legacy' setting will be removed in 1.1 (renaming of 0.26), and the default setting will be changed to True. In 1.3, 'square_distances' will be removed altogether, and distances will be squared by default. Set 'square_distances'=True to silence this warning.\n",
      "  warnings.warn(\n"
     ]
    },
    {
     "data": {
      "image/png": "[encoded data removed]",
      "text/plain": [
       "<Figure size 862.5x862.5 with 1 Axes>"
      ]
     },
     "metadata": {
      "needs_background": "light"
     },
     "output_type": "display_data"
    }
   ],
   "source": [
    "from sklearn.manifold import TSNE\n",
    "\n",
    "## w2v model\n",
    "model = w2v_google_model\n",
    "\n",
    "## prepare training word vectors\n",
    "size = 200\n",
    "target_size = len(target_words)\n",
    "all_word = list(model.index_to_key)\n",
    "word_train = target_words + all_word[:size]\n",
    "X_train = model[word_train]\n",
    "\n",
    "## t-SNE model\n",
    "tsne = TSNE(n_components=2, metric='cosine', random_state=28)\n",
    "\n",
    "## training\n",
    "X_tsne = tsne.fit_transform(X_train)\n",
    "\n",
    "## plot the result\n",
    "plt.figure(figsize=(7.5, 7.5), dpi=115)\n",
    "plt.scatter(X_tsne[:target_size, 0], X_tsne[:target_size, 1], c=color)\n",
    "for label, x, y in zip(target_words, X_tsne[:target_size, 0], X_tsne[:target_size, 1]):\n",
    "    plt.annotate(label, xy=(x,y), xytext=(0,0),  textcoords='offset points')\n",
    "plt.show()"
   ]
  },
  {
   "cell_type": "code",
   "execution_count": null,
   "id": "38a1a590",
   "metadata": {},
   "outputs": [],
   "source": []
  }
 ],
 "metadata": {
  "kernelspec": {
   "display_name": "Python 3 (ipykernel)",
   "language": "python",
   "name": "python3"
  },
  "language_info": {
   "codemirror_mode": {
    "name": "ipython",
    "version": 3
   },
   "file_extension": ".py",
   "mimetype": "text/x-python",
   "name": "python",
   "nbconvert_exporter": "python",
   "pygments_lexer": "ipython3",
   "version": "3.8.8"
  }
 },
 "nbformat": 4,
 "nbformat_minor": 5
}
